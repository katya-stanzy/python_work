{
  "cells": [
    {
      "cell_type": "code",
      "source": [
        "from azureml.opendatasets import NycTlcGreen\r\n",
        "import pandas as pd\r\n",
        "from datetime import datetime\r\n",
        "from dateutil.relativedelta import relativedelta"
      ],
      "outputs": [],
      "execution_count": 1,
      "metadata": {
        "gather": {
          "logged": 1638287656113
        }
      }
    },
    {
      "cell_type": "code",
      "source": [
        "green_taxi_df = pd.DataFrame([])\r\n",
        "start = datetime.strptime(\"1/1/2015\",\"%m/%d/%Y\")\r\n",
        "end = datetime.strptime(\"1/31/2015\",\"%m/%d/%Y\")\r\n",
        "\r\n",
        "for sample_month in range(12):\r\n",
        "    temp_df_green = NycTlcGreen(start + relativedelta(months=sample_month), end + relativedelta(months=sample_month)) \\\r\n",
        "        .to_pandas_dataframe()\r\n",
        "    green_taxi_df = green_taxi_df.append(temp_df_green.sample(2000))\r\n",
        "\r\n",
        "green_taxi_df.head(10)"
      ],
      "outputs": [
        {
          "output_type": "stream",
          "name": "stdout",
          "text": "[Info] read from /tmp/tmp8ik759lb/https%3A/%2Fazureopendatastorage.azurefd.net/nyctlc/green/puYear=2015/puMonth=1/part-00175-tid-4753095944193949832-fee7e113-666d-4114-9fcb-bcd3046479f3-2745-1.c000.snappy.parquet\n[Info] read from /tmp/tmpbq8w5pep/https%3A/%2Fazureopendatastorage.azurefd.net/nyctlc/green/puYear=2015/puMonth=2/part-00007-tid-4753095944193949832-fee7e113-666d-4114-9fcb-bcd3046479f3-2577-1.c000.snappy.parquet\n[Info] read from /tmp/tmpippuagrn/https%3A/%2Fazureopendatastorage.azurefd.net/nyctlc/green/puYear=2015/puMonth=3/part-00133-tid-4753095944193949832-fee7e113-666d-4114-9fcb-bcd3046479f3-2703-1.c000.snappy.parquet\n[Info] read from /tmp/tmpo0w97lvq/https%3A/%2Fazureopendatastorage.azurefd.net/nyctlc/green/puYear=2015/puMonth=4/part-00073-tid-4753095944193949832-fee7e113-666d-4114-9fcb-bcd3046479f3-2643-1.c000.snappy.parquet\n[Info] read from /tmp/tmp9fnfn2zw/https%3A/%2Fazureopendatastorage.azurefd.net/nyctlc/green/puYear=2015/puMonth=5/part-00177-tid-4753095944193949832-fee7e113-666d-4114-9fcb-bcd3046479f3-2747-1.c000.snappy.parquet\n[Info] read from /tmp/tmpeer0vxah/https%3A/%2Fazureopendatastorage.azurefd.net/nyctlc/green/puYear=2015/puMonth=6/part-00156-tid-4753095944193949832-fee7e113-666d-4114-9fcb-bcd3046479f3-2726-2.c000.snappy.parquet\n[Info] read from /tmp/tmp4olmh_wq/https%3A/%2Fazureopendatastorage.azurefd.net/nyctlc/green/puYear=2015/puMonth=7/part-00147-tid-4753095944193949832-fee7e113-666d-4114-9fcb-bcd3046479f3-2717-1.c000.snappy.parquet\n[Info] read from /tmp/tmpajda456_/https%3A/%2Fazureopendatastorage.azurefd.net/nyctlc/green/puYear=2015/puMonth=8/part-00074-tid-4753095944193949832-fee7e113-666d-4114-9fcb-bcd3046479f3-2644-1.c000.snappy.parquet\n[Info] read from /tmp/tmps6er25rd/https%3A/%2Fazureopendatastorage.azurefd.net/nyctlc/green/puYear=2015/puMonth=9/part-00092-tid-4753095944193949832-fee7e113-666d-4114-9fcb-bcd3046479f3-2662-1.c000.snappy.parquet\n[Info] read from /tmp/tmpmj4b1u0l/https%3A/%2Fazureopendatastorage.azurefd.net/nyctlc/green/puYear=2015/puMonth=10/part-00105-tid-4753095944193949832-fee7e113-666d-4114-9fcb-bcd3046479f3-2675-1.c000.snappy.parquet\n[Info] read from /tmp/tmp974tk5wg/https%3A/%2Fazureopendatastorage.azurefd.net/nyctlc/green/puYear=2015/puMonth=11/part-00089-tid-4753095944193949832-fee7e113-666d-4114-9fcb-bcd3046479f3-2659-1.c000.snappy.parquet\n[Info] read from /tmp/tmpseoj76yv/https%3A/%2Fazureopendatastorage.azurefd.net/nyctlc/green/puYear=2015/puMonth=12/part-00020-tid-4753095944193949832-fee7e113-666d-4114-9fcb-bcd3046479f3-2590-1.c000.snappy.parquet\n"
        },
        {
          "output_type": "execute_result",
          "execution_count": 2,
          "data": {
            "text/plain": "         vendorID  lpepPickupDatetime lpepDropoffDatetime  passengerCount  \\\n298198          2 2015-01-03 18:41:43 2015-01-03 18:46:17               1   \n848101          2 2015-01-04 19:18:53 2015-01-04 20:02:49               1   \n1222782         2 2015-01-28 14:39:54 2015-01-28 14:44:18               1   \n1154207         2 2015-01-21 13:19:42 2015-01-21 13:24:52               1   \n450449          2 2015-01-30 23:55:41 2015-01-31 00:08:00               1   \n36621           2 2015-01-06 18:32:28 2015-01-06 18:39:34               1   \n858542          2 2015-01-05 09:07:38 2015-01-05 09:14:14               1   \n852928          2 2015-01-05 01:27:29 2015-01-05 01:37:01               4   \n441521          1 2015-01-20 14:41:17 2015-01-20 15:09:10               3   \n816671          2 2015-01-01 07:22:28 2015-01-01 07:44:27               1   \n\n         tripDistance puLocationId doLocationId  pickupLongitude  \\\n298198           0.84         None         None       -73.911110   \n848101           9.31         None         None       -73.959442   \n1222782          0.61         None         None       -73.918320   \n1154207          0.77         None         None       -73.947708   \n450449           4.85         None         None       -73.828697   \n36621            1.55         None         None       -73.912056   \n858542           1.68         None         None       -73.947670   \n852928           2.29         None         None       -73.972885   \n441521           4.80         None         None       -73.962288   \n816671           6.35         None         None       -73.922523   \n\n         pickupLatitude  dropoffLongitude  ...  paymentType  fareAmount extra  \\\n298198        40.744572        -73.922684  ...            2         5.5   0.5   \n848101        40.801476        -74.007278  ...            1        15.0   0.0   \n1222782       40.825733        -73.922386  ...            2         5.0   0.0   \n1154207       40.790192        -73.955460  ...            2         5.5   0.0   \n450449        40.711548        -73.898964  ...            2        15.5   0.5   \n36621         40.767609        -73.912079  ...            2         7.0   1.0   \n858542        40.830391        -73.952637  ...            1         7.5   0.0   \n852928        40.685741        -73.936295  ...            2         9.5   0.5   \n441521        40.660652        -73.919891  ...            2        21.0   0.0   \n816671        40.708801        -73.965767  ...            1        21.5   0.0   \n\n         mtaTax  improvementSurcharge  tipAmount  tollsAmount ehailFee  \\\n298198      0.5                   0.3        0.0          0.0      NaN   \n848101      0.0                     0        0.0          0.0      NaN   \n1222782     0.5                   0.3        0.0          0.0      NaN   \n1154207     0.5                   0.3        0.0          0.0      NaN   \n450449      0.5                   0.3        0.0          0.0      NaN   \n36621       0.5                   0.3        0.0          0.0      NaN   \n858542      0.5                   0.3        1.5          0.0      NaN   \n852928      0.5                   0.3        0.0          0.0      NaN   \n441521      0.5                   0.3        0.0          0.0      NaN   \n816671      0.5                   0.3        0.0          0.0      NaN   \n\n         totalAmount  tripType  \n298198           6.8       1.0  \n848101          15.0       2.0  \n1222782          5.8       1.0  \n1154207          6.3       1.0  \n450449          16.8       1.0  \n36621            8.8       1.0  \n858542           9.8       1.0  \n852928          10.8       1.0  \n441521          21.8       1.0  \n816671          22.3       1.0  \n\n[10 rows x 23 columns]",
            "text/html": "<div>\n<style scoped>\n    .dataframe tbody tr th:only-of-type {\n        vertical-align: middle;\n    }\n\n    .dataframe tbody tr th {\n        vertical-align: top;\n    }\n\n    .dataframe thead th {\n        text-align: right;\n    }\n</style>\n<table border=\"1\" class=\"dataframe\">\n  <thead>\n    <tr style=\"text-align: right;\">\n      <th></th>\n      <th>vendorID</th>\n      <th>lpepPickupDatetime</th>\n      <th>lpepDropoffDatetime</th>\n      <th>passengerCount</th>\n      <th>tripDistance</th>\n      <th>puLocationId</th>\n      <th>doLocationId</th>\n      <th>pickupLongitude</th>\n      <th>pickupLatitude</th>\n      <th>dropoffLongitude</th>\n      <th>...</th>\n      <th>paymentType</th>\n      <th>fareAmount</th>\n      <th>extra</th>\n      <th>mtaTax</th>\n      <th>improvementSurcharge</th>\n      <th>tipAmount</th>\n      <th>tollsAmount</th>\n      <th>ehailFee</th>\n      <th>totalAmount</th>\n      <th>tripType</th>\n    </tr>\n  </thead>\n  <tbody>\n    <tr>\n      <th>298198</th>\n      <td>2</td>\n      <td>2015-01-03 18:41:43</td>\n      <td>2015-01-03 18:46:17</td>\n      <td>1</td>\n      <td>0.84</td>\n      <td>None</td>\n      <td>None</td>\n      <td>-73.911110</td>\n      <td>40.744572</td>\n      <td>-73.922684</td>\n      <td>...</td>\n      <td>2</td>\n      <td>5.5</td>\n      <td>0.5</td>\n      <td>0.5</td>\n      <td>0.3</td>\n      <td>0.0</td>\n      <td>0.0</td>\n      <td>NaN</td>\n      <td>6.8</td>\n      <td>1.0</td>\n    </tr>\n    <tr>\n      <th>848101</th>\n      <td>2</td>\n      <td>2015-01-04 19:18:53</td>\n      <td>2015-01-04 20:02:49</td>\n      <td>1</td>\n      <td>9.31</td>\n      <td>None</td>\n      <td>None</td>\n      <td>-73.959442</td>\n      <td>40.801476</td>\n      <td>-74.007278</td>\n      <td>...</td>\n      <td>1</td>\n      <td>15.0</td>\n      <td>0.0</td>\n      <td>0.0</td>\n      <td>0</td>\n      <td>0.0</td>\n      <td>0.0</td>\n      <td>NaN</td>\n      <td>15.0</td>\n      <td>2.0</td>\n    </tr>\n    <tr>\n      <th>1222782</th>\n      <td>2</td>\n      <td>2015-01-28 14:39:54</td>\n      <td>2015-01-28 14:44:18</td>\n      <td>1</td>\n      <td>0.61</td>\n      <td>None</td>\n      <td>None</td>\n      <td>-73.918320</td>\n      <td>40.825733</td>\n      <td>-73.922386</td>\n      <td>...</td>\n      <td>2</td>\n      <td>5.0</td>\n      <td>0.0</td>\n      <td>0.5</td>\n      <td>0.3</td>\n      <td>0.0</td>\n      <td>0.0</td>\n      <td>NaN</td>\n      <td>5.8</td>\n      <td>1.0</td>\n    </tr>\n    <tr>\n      <th>1154207</th>\n      <td>2</td>\n      <td>2015-01-21 13:19:42</td>\n      <td>2015-01-21 13:24:52</td>\n      <td>1</td>\n      <td>0.77</td>\n      <td>None</td>\n      <td>None</td>\n      <td>-73.947708</td>\n      <td>40.790192</td>\n      <td>-73.955460</td>\n      <td>...</td>\n      <td>2</td>\n      <td>5.5</td>\n      <td>0.0</td>\n      <td>0.5</td>\n      <td>0.3</td>\n      <td>0.0</td>\n      <td>0.0</td>\n      <td>NaN</td>\n      <td>6.3</td>\n      <td>1.0</td>\n    </tr>\n    <tr>\n      <th>450449</th>\n      <td>2</td>\n      <td>2015-01-30 23:55:41</td>\n      <td>2015-01-31 00:08:00</td>\n      <td>1</td>\n      <td>4.85</td>\n      <td>None</td>\n      <td>None</td>\n      <td>-73.828697</td>\n      <td>40.711548</td>\n      <td>-73.898964</td>\n      <td>...</td>\n      <td>2</td>\n      <td>15.5</td>\n      <td>0.5</td>\n      <td>0.5</td>\n      <td>0.3</td>\n      <td>0.0</td>\n      <td>0.0</td>\n      <td>NaN</td>\n      <td>16.8</td>\n      <td>1.0</td>\n    </tr>\n    <tr>\n      <th>36621</th>\n      <td>2</td>\n      <td>2015-01-06 18:32:28</td>\n      <td>2015-01-06 18:39:34</td>\n      <td>1</td>\n      <td>1.55</td>\n      <td>None</td>\n      <td>None</td>\n      <td>-73.912056</td>\n      <td>40.767609</td>\n      <td>-73.912079</td>\n      <td>...</td>\n      <td>2</td>\n      <td>7.0</td>\n      <td>1.0</td>\n      <td>0.5</td>\n      <td>0.3</td>\n      <td>0.0</td>\n      <td>0.0</td>\n      <td>NaN</td>\n      <td>8.8</td>\n      <td>1.0</td>\n    </tr>\n    <tr>\n      <th>858542</th>\n      <td>2</td>\n      <td>2015-01-05 09:07:38</td>\n      <td>2015-01-05 09:14:14</td>\n      <td>1</td>\n      <td>1.68</td>\n      <td>None</td>\n      <td>None</td>\n      <td>-73.947670</td>\n      <td>40.830391</td>\n      <td>-73.952637</td>\n      <td>...</td>\n      <td>1</td>\n      <td>7.5</td>\n      <td>0.0</td>\n      <td>0.5</td>\n      <td>0.3</td>\n      <td>1.5</td>\n      <td>0.0</td>\n      <td>NaN</td>\n      <td>9.8</td>\n      <td>1.0</td>\n    </tr>\n    <tr>\n      <th>852928</th>\n      <td>2</td>\n      <td>2015-01-05 01:27:29</td>\n      <td>2015-01-05 01:37:01</td>\n      <td>4</td>\n      <td>2.29</td>\n      <td>None</td>\n      <td>None</td>\n      <td>-73.972885</td>\n      <td>40.685741</td>\n      <td>-73.936295</td>\n      <td>...</td>\n      <td>2</td>\n      <td>9.5</td>\n      <td>0.5</td>\n      <td>0.5</td>\n      <td>0.3</td>\n      <td>0.0</td>\n      <td>0.0</td>\n      <td>NaN</td>\n      <td>10.8</td>\n      <td>1.0</td>\n    </tr>\n    <tr>\n      <th>441521</th>\n      <td>1</td>\n      <td>2015-01-20 14:41:17</td>\n      <td>2015-01-20 15:09:10</td>\n      <td>3</td>\n      <td>4.80</td>\n      <td>None</td>\n      <td>None</td>\n      <td>-73.962288</td>\n      <td>40.660652</td>\n      <td>-73.919891</td>\n      <td>...</td>\n      <td>2</td>\n      <td>21.0</td>\n      <td>0.0</td>\n      <td>0.5</td>\n      <td>0.3</td>\n      <td>0.0</td>\n      <td>0.0</td>\n      <td>NaN</td>\n      <td>21.8</td>\n      <td>1.0</td>\n    </tr>\n    <tr>\n      <th>816671</th>\n      <td>2</td>\n      <td>2015-01-01 07:22:28</td>\n      <td>2015-01-01 07:44:27</td>\n      <td>1</td>\n      <td>6.35</td>\n      <td>None</td>\n      <td>None</td>\n      <td>-73.922523</td>\n      <td>40.708801</td>\n      <td>-73.965767</td>\n      <td>...</td>\n      <td>1</td>\n      <td>21.5</td>\n      <td>0.0</td>\n      <td>0.5</td>\n      <td>0.3</td>\n      <td>0.0</td>\n      <td>0.0</td>\n      <td>NaN</td>\n      <td>22.3</td>\n      <td>1.0</td>\n    </tr>\n  </tbody>\n</table>\n<p>10 rows × 23 columns</p>\n</div>"
          },
          "metadata": {}
        }
      ],
      "execution_count": 2,
      "metadata": {
        "jupyter": {
          "source_hidden": false,
          "outputs_hidden": false
        },
        "nteract": {
          "transient": {
            "deleting": false
          }
        },
        "gather": {
          "logged": 1638287869477
        }
      }
    },
    {
      "cell_type": "code",
      "source": [
        "columns_to_remove = [\"lpepDropoffDatetime\", \"puLocationId\", \"doLocationId\", \"extra\", \"mtaTax\",\r\n",
        "                     \"improvementSurcharge\", \"tollsAmount\", \"ehailFee\", \"tripType\", \"rateCodeID\",\r\n",
        "                     \"storeAndFwdFlag\", \"paymentType\", \"fareAmount\", \"tipAmount\"\r\n",
        "                    ]\r\n",
        "for col in columns_to_remove:\r\n",
        "    green_taxi_df.pop(col)\r\n",
        "\r\n",
        "green_taxi_df.head(5)"
      ],
      "outputs": [
        {
          "output_type": "execute_result",
          "execution_count": 3,
          "data": {
            "text/plain": "         vendorID  lpepPickupDatetime  passengerCount  tripDistance  \\\n298198          2 2015-01-03 18:41:43               1          0.84   \n848101          2 2015-01-04 19:18:53               1          9.31   \n1222782         2 2015-01-28 14:39:54               1          0.61   \n1154207         2 2015-01-21 13:19:42               1          0.77   \n450449          2 2015-01-30 23:55:41               1          4.85   \n\n         pickupLongitude  pickupLatitude  dropoffLongitude  dropoffLatitude  \\\n298198        -73.911110       40.744572        -73.922684        40.737892   \n848101        -73.959442       40.801476        -74.007278        40.740116   \n1222782       -73.918320       40.825733        -73.922386        40.831604   \n1154207       -73.947708       40.790192        -73.955460        40.779430   \n450449        -73.828697       40.711548        -73.898964        40.698402   \n\n         totalAmount  \n298198           6.8  \n848101          15.0  \n1222782          5.8  \n1154207          6.3  \n450449          16.8  ",
            "text/html": "<div>\n<style scoped>\n    .dataframe tbody tr th:only-of-type {\n        vertical-align: middle;\n    }\n\n    .dataframe tbody tr th {\n        vertical-align: top;\n    }\n\n    .dataframe thead th {\n        text-align: right;\n    }\n</style>\n<table border=\"1\" class=\"dataframe\">\n  <thead>\n    <tr style=\"text-align: right;\">\n      <th></th>\n      <th>vendorID</th>\n      <th>lpepPickupDatetime</th>\n      <th>passengerCount</th>\n      <th>tripDistance</th>\n      <th>pickupLongitude</th>\n      <th>pickupLatitude</th>\n      <th>dropoffLongitude</th>\n      <th>dropoffLatitude</th>\n      <th>totalAmount</th>\n    </tr>\n  </thead>\n  <tbody>\n    <tr>\n      <th>298198</th>\n      <td>2</td>\n      <td>2015-01-03 18:41:43</td>\n      <td>1</td>\n      <td>0.84</td>\n      <td>-73.911110</td>\n      <td>40.744572</td>\n      <td>-73.922684</td>\n      <td>40.737892</td>\n      <td>6.8</td>\n    </tr>\n    <tr>\n      <th>848101</th>\n      <td>2</td>\n      <td>2015-01-04 19:18:53</td>\n      <td>1</td>\n      <td>9.31</td>\n      <td>-73.959442</td>\n      <td>40.801476</td>\n      <td>-74.007278</td>\n      <td>40.740116</td>\n      <td>15.0</td>\n    </tr>\n    <tr>\n      <th>1222782</th>\n      <td>2</td>\n      <td>2015-01-28 14:39:54</td>\n      <td>1</td>\n      <td>0.61</td>\n      <td>-73.918320</td>\n      <td>40.825733</td>\n      <td>-73.922386</td>\n      <td>40.831604</td>\n      <td>5.8</td>\n    </tr>\n    <tr>\n      <th>1154207</th>\n      <td>2</td>\n      <td>2015-01-21 13:19:42</td>\n      <td>1</td>\n      <td>0.77</td>\n      <td>-73.947708</td>\n      <td>40.790192</td>\n      <td>-73.955460</td>\n      <td>40.779430</td>\n      <td>6.3</td>\n    </tr>\n    <tr>\n      <th>450449</th>\n      <td>2</td>\n      <td>2015-01-30 23:55:41</td>\n      <td>1</td>\n      <td>4.85</td>\n      <td>-73.828697</td>\n      <td>40.711548</td>\n      <td>-73.898964</td>\n      <td>40.698402</td>\n      <td>16.8</td>\n    </tr>\n  </tbody>\n</table>\n</div>"
          },
          "metadata": {}
        }
      ],
      "execution_count": 3,
      "metadata": {
        "jupyter": {
          "source_hidden": false,
          "outputs_hidden": false
        },
        "nteract": {
          "transient": {
            "deleting": false
          }
        },
        "gather": {
          "logged": 1638287896600
        }
      }
    },
    {
      "cell_type": "code",
      "source": [
        "green_taxi_df.describe()"
      ],
      "outputs": [
        {
          "output_type": "execute_result",
          "execution_count": 4,
          "data": {
            "text/plain": "           vendorID  passengerCount  tripDistance  pickupLongitude  \\\ncount  24000.000000    24000.000000  24000.000000     24000.000000   \nmean       1.784458        1.371833      2.876317       -73.824674   \nstd        0.411206        1.046041      2.915598         2.861732   \nmin        1.000000        0.000000      0.000000       -74.163338   \n25%        2.000000        1.000000      1.060000       -73.959793   \n50%        2.000000        1.000000      1.910000       -73.945068   \n75%        2.000000        1.000000      3.630000       -73.917355   \nmax        2.000000        8.000000     64.350000         0.000000   \n\n       pickupLatitude  dropoffLongitude  dropoffLatitude   totalAmount  \ncount    24000.000000      24000.000000     24000.000000  24000.000000  \nmean        40.688313        -73.829625        40.689949     14.821643  \nstd          1.578136          2.781326         1.533761     11.972406  \nmin          0.000000        -74.183273         0.000000    -52.800000  \n25%         40.697363        -73.967316        40.699303      7.880000  \n50%         40.746866        -73.944561        40.748093     11.300000  \n75%         40.803717        -73.909803        40.793927     17.800000  \nmax         40.981140          0.000000        41.032848    470.000000  ",
            "text/html": "<div>\n<style scoped>\n    .dataframe tbody tr th:only-of-type {\n        vertical-align: middle;\n    }\n\n    .dataframe tbody tr th {\n        vertical-align: top;\n    }\n\n    .dataframe thead th {\n        text-align: right;\n    }\n</style>\n<table border=\"1\" class=\"dataframe\">\n  <thead>\n    <tr style=\"text-align: right;\">\n      <th></th>\n      <th>vendorID</th>\n      <th>passengerCount</th>\n      <th>tripDistance</th>\n      <th>pickupLongitude</th>\n      <th>pickupLatitude</th>\n      <th>dropoffLongitude</th>\n      <th>dropoffLatitude</th>\n      <th>totalAmount</th>\n    </tr>\n  </thead>\n  <tbody>\n    <tr>\n      <th>count</th>\n      <td>24000.000000</td>\n      <td>24000.000000</td>\n      <td>24000.000000</td>\n      <td>24000.000000</td>\n      <td>24000.000000</td>\n      <td>24000.000000</td>\n      <td>24000.000000</td>\n      <td>24000.000000</td>\n    </tr>\n    <tr>\n      <th>mean</th>\n      <td>1.784458</td>\n      <td>1.371833</td>\n      <td>2.876317</td>\n      <td>-73.824674</td>\n      <td>40.688313</td>\n      <td>-73.829625</td>\n      <td>40.689949</td>\n      <td>14.821643</td>\n    </tr>\n    <tr>\n      <th>std</th>\n      <td>0.411206</td>\n      <td>1.046041</td>\n      <td>2.915598</td>\n      <td>2.861732</td>\n      <td>1.578136</td>\n      <td>2.781326</td>\n      <td>1.533761</td>\n      <td>11.972406</td>\n    </tr>\n    <tr>\n      <th>min</th>\n      <td>1.000000</td>\n      <td>0.000000</td>\n      <td>0.000000</td>\n      <td>-74.163338</td>\n      <td>0.000000</td>\n      <td>-74.183273</td>\n      <td>0.000000</td>\n      <td>-52.800000</td>\n    </tr>\n    <tr>\n      <th>25%</th>\n      <td>2.000000</td>\n      <td>1.000000</td>\n      <td>1.060000</td>\n      <td>-73.959793</td>\n      <td>40.697363</td>\n      <td>-73.967316</td>\n      <td>40.699303</td>\n      <td>7.880000</td>\n    </tr>\n    <tr>\n      <th>50%</th>\n      <td>2.000000</td>\n      <td>1.000000</td>\n      <td>1.910000</td>\n      <td>-73.945068</td>\n      <td>40.746866</td>\n      <td>-73.944561</td>\n      <td>40.748093</td>\n      <td>11.300000</td>\n    </tr>\n    <tr>\n      <th>75%</th>\n      <td>2.000000</td>\n      <td>1.000000</td>\n      <td>3.630000</td>\n      <td>-73.917355</td>\n      <td>40.803717</td>\n      <td>-73.909803</td>\n      <td>40.793927</td>\n      <td>17.800000</td>\n    </tr>\n    <tr>\n      <th>max</th>\n      <td>2.000000</td>\n      <td>8.000000</td>\n      <td>64.350000</td>\n      <td>0.000000</td>\n      <td>40.981140</td>\n      <td>0.000000</td>\n      <td>41.032848</td>\n      <td>470.000000</td>\n    </tr>\n  </tbody>\n</table>\n</div>"
          },
          "metadata": {}
        }
      ],
      "execution_count": 4,
      "metadata": {
        "jupyter": {
          "source_hidden": false,
          "outputs_hidden": false
        },
        "nteract": {
          "transient": {
            "deleting": false
          }
        },
        "gather": {
          "logged": 1638287910131
        }
      }
    },
    {
      "cell_type": "code",
      "source": [
        "final_df = green_taxi_df.query(\"pickupLatitude>=40.53 and pickupLatitude<=40.88\")\r\n",
        "final_df = final_df.query(\"pickupLongitude>=-74.09 and pickupLongitude<=-73.72\")\r\n",
        "final_df = final_df.query(\"tripDistance>=0.25 and tripDistance<31\")\r\n",
        "final_df = final_df.query(\"passengerCount>0 and totalAmount>0\")\r\n",
        "\r\n",
        "columns_to_remove_for_training = [\"pickupLongitude\", \"pickupLatitude\", \"dropoffLongitude\", \"dropoffLatitude\"]\r\n",
        "for col in columns_to_remove_for_training:\r\n",
        "    final_df.pop(col)"
      ],
      "outputs": [],
      "execution_count": 5,
      "metadata": {
        "jupyter": {
          "source_hidden": false,
          "outputs_hidden": false
        },
        "nteract": {
          "transient": {
            "deleting": false
          }
        },
        "gather": {
          "logged": 1638288050511
        }
      }
    },
    {
      "cell_type": "code",
      "source": [
        "final_df.describe()"
      ],
      "outputs": [
        {
          "output_type": "execute_result",
          "execution_count": 6,
          "data": {
            "text/plain": "           vendorID  passengerCount  tripDistance   totalAmount\ncount  23240.000000    23240.000000  23240.000000  23240.000000\nmean       1.785284        1.374914      2.943624     14.826861\nstd        0.410634        1.050438      2.874970     10.864018\nmin        1.000000        1.000000      0.250000      0.080000\n25%        2.000000        1.000000      1.100000      8.160000\n50%        2.000000        1.000000      1.980000     11.440000\n75%        2.000000        1.000000      3.700000     17.800000\nmax        2.000000        8.000000     27.550000    470.000000",
            "text/html": "<div>\n<style scoped>\n    .dataframe tbody tr th:only-of-type {\n        vertical-align: middle;\n    }\n\n    .dataframe tbody tr th {\n        vertical-align: top;\n    }\n\n    .dataframe thead th {\n        text-align: right;\n    }\n</style>\n<table border=\"1\" class=\"dataframe\">\n  <thead>\n    <tr style=\"text-align: right;\">\n      <th></th>\n      <th>vendorID</th>\n      <th>passengerCount</th>\n      <th>tripDistance</th>\n      <th>totalAmount</th>\n    </tr>\n  </thead>\n  <tbody>\n    <tr>\n      <th>count</th>\n      <td>23240.000000</td>\n      <td>23240.000000</td>\n      <td>23240.000000</td>\n      <td>23240.000000</td>\n    </tr>\n    <tr>\n      <th>mean</th>\n      <td>1.785284</td>\n      <td>1.374914</td>\n      <td>2.943624</td>\n      <td>14.826861</td>\n    </tr>\n    <tr>\n      <th>std</th>\n      <td>0.410634</td>\n      <td>1.050438</td>\n      <td>2.874970</td>\n      <td>10.864018</td>\n    </tr>\n    <tr>\n      <th>min</th>\n      <td>1.000000</td>\n      <td>1.000000</td>\n      <td>0.250000</td>\n      <td>0.080000</td>\n    </tr>\n    <tr>\n      <th>25%</th>\n      <td>2.000000</td>\n      <td>1.000000</td>\n      <td>1.100000</td>\n      <td>8.160000</td>\n    </tr>\n    <tr>\n      <th>50%</th>\n      <td>2.000000</td>\n      <td>1.000000</td>\n      <td>1.980000</td>\n      <td>11.440000</td>\n    </tr>\n    <tr>\n      <th>75%</th>\n      <td>2.000000</td>\n      <td>1.000000</td>\n      <td>3.700000</td>\n      <td>17.800000</td>\n    </tr>\n    <tr>\n      <th>max</th>\n      <td>2.000000</td>\n      <td>8.000000</td>\n      <td>27.550000</td>\n      <td>470.000000</td>\n    </tr>\n  </tbody>\n</table>\n</div>"
          },
          "metadata": {}
        }
      ],
      "execution_count": 6,
      "metadata": {
        "jupyter": {
          "source_hidden": false,
          "outputs_hidden": false
        },
        "nteract": {
          "transient": {
            "deleting": false
          }
        },
        "gather": {
          "logged": 1638288084613
        }
      }
    },
    {
      "cell_type": "code",
      "source": [
        "from azureml.core.workspace import Workspace\r\n",
        "ws = Workspace.from_config()"
      ],
      "outputs": [],
      "execution_count": 7,
      "metadata": {
        "jupyter": {
          "source_hidden": false,
          "outputs_hidden": false
        },
        "nteract": {
          "transient": {
            "deleting": false
          }
        },
        "gather": {
          "logged": 1638288098336
        }
      }
    },
    {
      "cell_type": "code",
      "source": [
        "from sklearn.model_selection import train_test_split\r\n",
        "\r\n",
        "x_train, x_test = train_test_split(final_df, test_size=0.2, random_state=223)"
      ],
      "outputs": [],
      "execution_count": 8,
      "metadata": {
        "jupyter": {
          "source_hidden": false,
          "outputs_hidden": false
        },
        "nteract": {
          "transient": {
            "deleting": false
          }
        },
        "gather": {
          "logged": 1638288132970
        }
      }
    },
    {
      "cell_type": "code",
      "source": [],
      "outputs": [],
      "execution_count": null,
      "metadata": {
        "jupyter": {
          "source_hidden": false,
          "outputs_hidden": false
        },
        "nteract": {
          "transient": {
            "deleting": false
          }
        }
      }
    },
    {
      "cell_type": "code",
      "source": [
        "import logging\r\n",
        "\r\n",
        "automl_settings = {\r\n",
        "    \"iteration_timeout_minutes\": 10,\r\n",
        "    \"experiment_timeout_hours\": 0.3,\r\n",
        "    \"enable_early_stopping\": True,\r\n",
        "    \"primary_metric\": 'spearman_correlation',\r\n",
        "    \"featurization\": 'auto',\r\n",
        "    \"verbosity\": logging.INFO,\r\n",
        "    \"n_cross_validations\": 5\r\n",
        "}"
      ],
      "outputs": [],
      "execution_count": 9,
      "metadata": {
        "jupyter": {
          "source_hidden": false,
          "outputs_hidden": false
        },
        "nteract": {
          "transient": {
            "deleting": false
          }
        },
        "gather": {
          "logged": 1638288170614
        }
      }
    },
    {
      "cell_type": "code",
      "source": [
        "from azureml.train.automl import AutoMLConfig\r\n",
        "\r\n",
        "automl_config = AutoMLConfig(task='regression',\r\n",
        "                             debug_log='automated_ml_errors.log',\r\n",
        "                             training_data=x_train,\r\n",
        "                             label_column_name=\"totalAmount\",\r\n",
        "                             **automl_settings)"
      ],
      "outputs": [],
      "execution_count": 10,
      "metadata": {
        "jupyter": {
          "source_hidden": false,
          "outputs_hidden": false
        },
        "nteract": {
          "transient": {
            "deleting": false
          }
        },
        "gather": {
          "logged": 1638288193641
        }
      }
    },
    {
      "cell_type": "code",
      "source": [
        "from azureml.core.experiment import Experiment\r\n",
        "experiment = Experiment(ws, \"Tutorial-NYCTaxi\")\r\n",
        "local_run = experiment.submit(automl_config, show_output=True)"
      ],
      "outputs": [
        {
          "output_type": "stream",
          "name": "stdout",
          "text": "No run_configuration provided, running on local with default configuration\nRunning in the active local environment.\n"
        },
        {
          "output_type": "display_data",
          "data": {
            "text/plain": "<IPython.core.display.HTML object>",
            "text/html": "<table style=\"width:100%\"><tr><th>Experiment</th><th>Id</th><th>Type</th><th>Status</th><th>Details Page</th><th>Docs Page</th></tr><tr><td>Tutorial-NYCTaxi</td><td>AutoML_4bf64e56-26aa-46f4-a8a2-32917c97d5e8</td><td>automl</td><td>Preparing</td><td><a href=\"https://ml.azure.com/runs/AutoML_4bf64e56-26aa-46f4-a8a2-32917c97d5e8?wsid=/subscriptions/d3aa6ab9-2bd2-4ded-a1a3-97801a514ebb/resourcegroups/stanzi-ml-resource/workspaces/stanzi-ml-workspace&amp;tid=33a4a0da-c861-4690-85af-fad84e5687b2\" target=\"_blank\" rel=\"noopener\">Link to Azure Machine Learning studio</a></td><td><a href=\"https://docs.microsoft.com/en-us/python/api/overview/azure/ml/intro?view=azure-ml-py\" target=\"_blank\" rel=\"noopener\">Link to Documentation</a></td></tr></table>"
          },
          "metadata": {}
        },
        {
          "output_type": "stream",
          "name": "stdout",
          "text": "Current status: DatasetEvaluation. Gathering dataset statistics.\nCurrent status: FeaturesGeneration. Generating features for the dataset.\nCurrent status: DatasetFeaturization. Beginning to fit featurizers and featurize the dataset.\nCurrent status: DatasetFeaturizationCompleted. Completed fit featurizers and featurizing the dataset.\nCurrent status: DatasetCrossValidationSplit. Generating individually featurized CV splits.\n\n****************************************************************************************************\nDATA GUARDRAILS: \n\nTYPE:         Missing feature values imputation\nSTATUS:       PASSED\nDESCRIPTION:  No feature missing values were detected in the training data.\n              Learn more about missing value imputation: https://aka.ms/AutomatedMLFeaturization\n\n****************************************************************************************************\n\nTYPE:         High cardinality feature detection\nSTATUS:       PASSED\nDESCRIPTION:  Your inputs were analyzed, and no high cardinality features were detected.\n              Learn more about high cardinality feature handling: https://aka.ms/AutomatedMLFeaturization\n\n****************************************************************************************************\nCurrent status: ModelSelection. Beginning model selection.\n\n****************************************************************************************************\nITERATION: The iteration being evaluated.\nPIPELINE: A summary description of the pipeline being evaluated.\nDURATION: Time taken for the current iteration.\nMETRIC: The result of computing score on the fitted pipeline.\nBEST: The best observed score thus far.\n****************************************************************************************************\n\n ITERATION   PIPELINE                                       DURATION      METRIC      BEST\n         0   MaxAbsScaler LightGBM                          0:00:24       0.9469    0.9469\n         1   MaxAbsScaler XGBoostRegressor                  0:00:26       0.9476    0.9476\n         2   MaxAbsScaler ElasticNet                        0:00:22       0.9435    0.9476\n         3   StandardScalerWrapper XGBoostRegressor         0:00:29       0.9455    0.9476\n         4   StandardScalerWrapper XGBoostRegressor         0:00:22       0.9387    0.9476\n         5   StandardScalerWrapper ExtremeRandomTrees       0:00:23       0.8938    0.9476\n         6   StandardScalerWrapper RandomForest             0:00:31       0.9453    0.9476\n         7   StandardScalerWrapper DecisionTree             0:00:21       0.9441    0.9476\n         8   StandardScalerWrapper LightGBM                 0:00:25       0.9451    0.9476\n         9   StandardScalerWrapper LightGBM                 0:00:33       0.9376    0.9476\n        10   StandardScalerWrapper ElasticNet               0:00:21       0.9440    0.9476\n        11   StandardScalerWrapper ElasticNet               0:00:32       0.9433    0.9476\n        12   MaxAbsScaler ExtremeRandomTrees                0:12:41       0.9290    0.9476\n        13   VotingEnsemble                                 0:00:28       0.9482    0.9482\n        14   StackEnsemble                                  0:00:28       0.9473    0.9482\nStopping criteria reached at iteration 15. Ending experiment.\n****************************************************************************************************\nCurrent status: BestRunExplainModel. Best run model explanations started\nCurrent status: ModelExplanationDataSetSetup. Model explanations data setup completed\nCurrent status: PickSurrogateModel. Choosing LightGBM as the surrogate model for explanations\nCurrent status: EngineeredFeatureExplanations. Computation of engineered features started\nCurrent status: EngineeredFeatureExplanations. Computation of engineered features completed\nCurrent status: RawFeaturesExplanations. Computation of raw features started\nCurrent status: RawFeaturesExplanations. Computation of raw features completed\nCurrent status: BestRunExplainModel. Best run model explanations completed\n****************************************************************************************************\n"
        }
      ],
      "execution_count": 11,
      "metadata": {
        "jupyter": {
          "source_hidden": false,
          "outputs_hidden": false
        },
        "nteract": {
          "transient": {
            "deleting": false
          }
        },
        "gather": {
          "logged": 1638289811352
        }
      }
    },
    {
      "cell_type": "code",
      "source": [
        "from azureml.widgets import RunDetails\r\n",
        "RunDetails(local_run).show()"
      ],
      "outputs": [
        {
          "output_type": "display_data",
          "data": {
            "text/plain": "_AutoMLWidget(widget_settings={'childWidgetDisplay': 'popup', 'send_telemetry': False, 'log_level': 'INFO', 's…",
            "application/vnd.jupyter.widget-view+json": {
              "version_major": 2,
              "version_minor": 0,
              "model_id": "358bdcd36f4f45d6ab43927c7ef7eda1"
            }
          },
          "metadata": {}
        },
        {
          "output_type": "display_data",
          "data": {
            "application/aml.mini.widget.v1": "{\"status\": \"Completed\", \"workbench_run_details_uri\": \"https://ml.azure.com/runs/AutoML_4bf64e56-26aa-46f4-a8a2-32917c97d5e8?wsid=/subscriptions/d3aa6ab9-2bd2-4ded-a1a3-97801a514ebb/resourcegroups/stanzi-ml-resource/workspaces/stanzi-ml-workspace&tid=33a4a0da-c861-4690-85af-fad84e5687b2\", \"run_id\": \"AutoML_4bf64e56-26aa-46f4-a8a2-32917c97d5e8\", \"run_properties\": {\"run_id\": \"AutoML_4bf64e56-26aa-46f4-a8a2-32917c97d5e8\", \"created_utc\": \"2021-11-30T16:10:04.046204Z\", \"properties\": {\"num_iterations\": \"1000\", \"training_type\": \"TrainFull\", \"acquisition_function\": \"EI\", \"primary_metric\": \"spearman_correlation\", \"train_split\": \"0\", \"acquisition_parameter\": \"0\", \"num_cross_validation\": \"5\", \"target\": \"local\", \"AMLSettingsJsonString\": \"{\\\"path\\\":null,\\\"name\\\":\\\"Tutorial-NYCTaxi\\\",\\\"subscription_id\\\":\\\"d3aa6ab9-2bd2-4ded-a1a3-97801a514ebb\\\",\\\"resource_group\\\":\\\"stanzi-ml-resource\\\",\\\"workspace_name\\\":\\\"stanzi-ml-workspace\\\",\\\"region\\\":\\\"northeurope\\\",\\\"compute_target\\\":\\\"local\\\",\\\"spark_service\\\":null,\\\"azure_service\\\":\\\"Microsoft.AzureNotebookVM\\\",\\\"many_models\\\":false,\\\"pipeline_fetch_max_batch_size\\\":1,\\\"enable_batch_run\\\":false,\\\"enable_run_restructure\\\":false,\\\"start_auxiliary_runs_before_parent_complete\\\":false,\\\"enable_code_generation\\\":false,\\\"iterations\\\":1000,\\\"primary_metric\\\":\\\"spearman_correlation\\\",\\\"task_type\\\":\\\"regression\\\",\\\"data_script\\\":null,\\\"test_size\\\":0.0,\\\"test_include_predictions_only\\\":false,\\\"validation_size\\\":0.0,\\\"n_cross_validations\\\":5,\\\"y_min\\\":null,\\\"y_max\\\":null,\\\"num_classes\\\":null,\\\"featurization\\\":\\\"auto\\\",\\\"_ignore_package_version_incompatibilities\\\":false,\\\"is_timeseries\\\":false,\\\"max_cores_per_iteration\\\":1,\\\"max_concurrent_iterations\\\":1,\\\"iteration_timeout_minutes\\\":10,\\\"mem_in_mb\\\":null,\\\"enforce_time_on_windows\\\":false,\\\"experiment_timeout_minutes\\\":18,\\\"experiment_exit_score\\\":null,\\\"whitelist_models\\\":null,\\\"blacklist_algos\\\":[\\\"TensorFlowDNN\\\",\\\"TensorFlowLinearRegressor\\\"],\\\"supported_models\\\":[\\\"LassoLars\\\",\\\"LightGBM\\\",\\\"TensorFlowLinearRegressor\\\",\\\"GradientBoosting\\\",\\\"DecisionTree\\\",\\\"SGD\\\",\\\"XGBoostRegressor\\\",\\\"TensorFlowDNN\\\",\\\"FastLinearRegressor\\\",\\\"ElasticNet\\\",\\\"OnlineGradientDescentRegressor\\\",\\\"KNN\\\",\\\"RandomForest\\\",\\\"ExtremeRandomTrees\\\"],\\\"private_models\\\":[],\\\"auto_blacklist\\\":true,\\\"blacklist_samples_reached\\\":false,\\\"exclude_nan_labels\\\":true,\\\"verbosity\\\":20,\\\"_debug_log\\\":\\\"automated_ml_errors.log\\\",\\\"show_warnings\\\":false,\\\"model_explainability\\\":true,\\\"service_url\\\":null,\\\"sdk_url\\\":null,\\\"sdk_packages\\\":null,\\\"enable_onnx_compatible_models\\\":false,\\\"enable_split_onnx_featurizer_estimator_models\\\":false,\\\"vm_type\\\":null,\\\"telemetry_verbosity\\\":20,\\\"send_telemetry\\\":true,\\\"enable_dnn\\\":false,\\\"scenario\\\":\\\"SDK-1.13.0\\\",\\\"environment_label\\\":null,\\\"save_mlflow\\\":false,\\\"force_text_dnn\\\":false,\\\"enable_feature_sweeping\\\":true,\\\"enable_early_stopping\\\":true,\\\"early_stopping_n_iters\\\":10,\\\"metrics\\\":null,\\\"enable_metric_confidence\\\":false,\\\"enable_ensembling\\\":true,\\\"enable_stack_ensembling\\\":true,\\\"ensemble_iterations\\\":15,\\\"enable_tf\\\":false,\\\"enable_subsampling\\\":null,\\\"subsample_seed\\\":null,\\\"enable_nimbusml\\\":false,\\\"enable_streaming\\\":false,\\\"force_streaming\\\":false,\\\"track_child_runs\\\":true,\\\"allowed_private_models\\\":[],\\\"label_column_name\\\":\\\"totalAmount\\\",\\\"weight_column_name\\\":null,\\\"cv_split_column_names\\\":null,\\\"positive_label\\\":null,\\\"enable_local_managed\\\":false,\\\"_local_managed_run_id\\\":null,\\\"cost_mode\\\":1,\\\"lag_length\\\":0,\\\"metric_operation\\\":\\\"maximize\\\",\\\"preprocess\\\":true}\", \"DataPrepJsonString\": null, \"EnableSubsampling\": null, \"runTemplate\": \"AutoML\", \"azureml.runsource\": \"automl\", \"display_task_type\": \"regression\", \"dependencies_versions\": \"{\\\"azureml-widgets\\\": \\\"1.34.0\\\", \\\"azureml-train\\\": \\\"1.34.0\\\", \\\"azureml-train-restclients-hyperdrive\\\": \\\"1.34.0\\\", \\\"azureml-train-core\\\": \\\"1.34.0\\\", \\\"azureml-train-automl\\\": \\\"1.34.0\\\", \\\"azureml-train-automl-runtime\\\": \\\"1.34.0\\\", \\\"azureml-train-automl-client\\\": \\\"1.34.0\\\", \\\"azureml-tensorboard\\\": \\\"1.34.0\\\", \\\"azureml-telemetry\\\": \\\"1.34.0\\\", \\\"azureml-sdk\\\": \\\"1.34.0\\\", \\\"azureml-samples\\\": \\\"0+unknown\\\", \\\"azureml-responsibleai\\\": \\\"1.34.0\\\", \\\"azureml-pipeline\\\": \\\"1.34.0\\\", \\\"azureml-pipeline-steps\\\": \\\"1.34.0\\\", \\\"azureml-pipeline-core\\\": \\\"1.34.0\\\", \\\"azureml-opendatasets\\\": \\\"1.34.0\\\", \\\"azureml-mlflow\\\": \\\"1.34.0\\\", \\\"azureml-interpret\\\": \\\"1.34.0\\\", \\\"azureml-inference-server-http\\\": \\\"0.3.1\\\", \\\"azureml-explain-model\\\": \\\"1.34.0\\\", \\\"azureml-defaults\\\": \\\"1.34.0\\\", \\\"azureml-dataset-runtime\\\": \\\"1.34.0\\\", \\\"azureml-dataprep\\\": \\\"2.22.2\\\", \\\"azureml-dataprep-rslex\\\": \\\"1.20.1\\\", \\\"azureml-dataprep-native\\\": \\\"38.0.0\\\", \\\"azureml-datadrift\\\": \\\"1.34.0\\\", \\\"azureml-core\\\": \\\"1.34.0\\\", \\\"azureml-contrib-services\\\": \\\"1.34.0\\\", \\\"azureml-contrib-server\\\": \\\"1.34.0\\\", \\\"azureml-contrib-reinforcementlearning\\\": \\\"1.34.0\\\", \\\"azureml-contrib-pipeline-steps\\\": \\\"1.34.0\\\", \\\"azureml-contrib-notebook\\\": \\\"1.34.0\\\", \\\"azureml-contrib-fairness\\\": \\\"1.34.0\\\", \\\"azureml-contrib-dataset\\\": \\\"1.34.0\\\", \\\"azureml-contrib-automl-pipeline-steps\\\": \\\"1.34.0\\\", \\\"azureml-cli-common\\\": \\\"1.34.0\\\", \\\"azureml-automl-runtime\\\": \\\"1.34.0\\\", \\\"azureml-automl-dnn-nlp\\\": \\\"1.34.0\\\", \\\"azureml-automl-core\\\": \\\"1.34.0\\\", \\\"azureml-accel-models\\\": \\\"1.34.0\\\"}\", \"_aml_system_scenario_identification\": \"Local.Parent\", \"ClientSdkVersion\": \"1.34.0\", \"ClientType\": \"SDK\", \"environment_cpu_name\": \"AzureML-AutoML\", \"environment_cpu_label\": \"prod\", \"environment_gpu_name\": \"AzureML-AutoML-GPU\", \"environment_gpu_label\": \"prod\", \"root_attribution\": \"automl\", \"attribution\": \"AutoML\", \"Orchestrator\": \"AutoML\", \"_azureml.ComputeTargetType\": \"local\", \"ProblemInfoJsonString\": \"{\\\"dataset_num_categorical\\\": 0, \\\"is_sparse\\\": true, \\\"subsampling\\\": false, \\\"has_extra_col\\\": true, \\\"dataset_classes\\\": 1002, \\\"dataset_features\\\": 19, \\\"dataset_samples\\\": 18592, \\\"single_frequency_class_detected\\\": false}\"}, \"tags\": {\"model_explain_run\": \"best_run\", \"best_score\": \"0.9481596414302607\", \"best_pipeline\": \"VotingEnsemble\", \"automl_best_child_run_id\": \"AutoML_4bf64e56-26aa-46f4-a8a2-32917c97d5e8_13\", \"model_explain_best_run_child_id\": \"AutoML_4bf64e56-26aa-46f4-a8a2-32917c97d5e8_13\"}, \"end_time_utc\": \"2021-11-30T16:29:23.582194Z\", \"status\": \"Completed\", \"log_files\": {}, \"log_groups\": [], \"run_duration\": \"0:19:19\", \"run_number\": \"1\", \"run_queued_details\": {\"status\": \"Completed\", \"details\": null}}, \"child_runs\": [{\"run_id\": \"AutoML_4bf64e56-26aa-46f4-a8a2-32917c97d5e8_0\", \"run_number\": 2, \"metric\": null, \"status\": \"Completed\", \"run_type\": null, \"training_percent\": \"100\", \"start_time\": \"2021-11-30T16:10:13.653305Z\", \"end_time\": \"2021-11-30T16:10:37.651823Z\", \"created_time\": \"2021-11-30T16:10:13.517258Z\", \"created_time_dt\": \"2021-11-30T16:10:13.517258Z\", \"duration\": \"0:00:24\", \"iteration\": \"0\", \"goal\": \"spearman_correlation_max\", \"run_name\": \"MaxAbsScaler, LightGBM\", \"run_properties\": \"copy=True\", \"primary_metric\": 0.94687657, \"best_metric\": 0.94687657}, {\"run_id\": \"AutoML_4bf64e56-26aa-46f4-a8a2-32917c97d5e8_1\", \"run_number\": 3, \"metric\": null, \"status\": \"Completed\", \"run_type\": null, \"training_percent\": \"100\", \"start_time\": \"2021-11-30T16:10:38.033474Z\", \"end_time\": \"2021-11-30T16:11:04.339888Z\", \"created_time\": \"2021-11-30T16:10:37.914537Z\", \"created_time_dt\": \"2021-11-30T16:10:37.914537Z\", \"duration\": \"0:00:26\", \"iteration\": \"1\", \"goal\": \"spearman_correlation_max\", \"run_name\": \"MaxAbsScaler, XGBoostRegressor\", \"run_properties\": \"copy=True\", \"primary_metric\": 0.94764685, \"best_metric\": 0.94764685}, {\"run_id\": \"AutoML_4bf64e56-26aa-46f4-a8a2-32917c97d5e8_2\", \"run_number\": 4, \"metric\": null, \"status\": \"Completed\", \"run_type\": null, \"training_percent\": \"100\", \"start_time\": \"2021-11-30T16:11:05.063955Z\", \"end_time\": \"2021-11-30T16:11:26.989557Z\", \"created_time\": \"2021-11-30T16:11:04.946322Z\", \"created_time_dt\": \"2021-11-30T16:11:04.946322Z\", \"duration\": \"0:00:22\", \"iteration\": \"2\", \"goal\": \"spearman_correlation_max\", \"run_name\": \"MaxAbsScaler, ElasticNet\", \"run_properties\": \"copy=True\", \"primary_metric\": 0.94345152, \"best_metric\": 0.94764685}, {\"run_id\": \"AutoML_4bf64e56-26aa-46f4-a8a2-32917c97d5e8_3\", \"run_number\": 5, \"metric\": null, \"status\": \"Completed\", \"run_type\": null, \"training_percent\": \"100\", \"start_time\": \"2021-11-30T16:11:28.552903Z\", \"end_time\": \"2021-11-30T16:11:57.929579Z\", \"created_time\": \"2021-11-30T16:11:28.415511Z\", \"created_time_dt\": \"2021-11-30T16:11:28.415511Z\", \"duration\": \"0:00:29\", \"iteration\": \"3\", \"goal\": \"spearman_correlation_max\", \"run_name\": \"StandardScalerWrapper, XGBoostRegressor\", \"run_properties\": \"\\n    copy=True,\\n    with_mean=False,\\n    with_std=False\\n\", \"primary_metric\": 0.94547424, \"best_metric\": 0.94764685}, {\"run_id\": \"AutoML_4bf64e56-26aa-46f4-a8a2-32917c97d5e8_4\", \"run_number\": 6, \"metric\": null, \"status\": \"Completed\", \"run_type\": null, \"training_percent\": \"100\", \"start_time\": \"2021-11-30T16:11:59.397181Z\", \"end_time\": \"2021-11-30T16:12:21.530884Z\", \"created_time\": \"2021-11-30T16:11:59.262917Z\", \"created_time_dt\": \"2021-11-30T16:11:59.262917Z\", \"duration\": \"0:00:22\", \"iteration\": \"4\", \"goal\": \"spearman_correlation_max\", \"run_name\": \"StandardScalerWrapper, XGBoostRegressor\", \"run_properties\": \"\\n    copy=True,\\n    with_mean=False,\\n    with_std=False\\n\", \"primary_metric\": 0.93872943, \"best_metric\": 0.94764685}, {\"run_id\": \"AutoML_4bf64e56-26aa-46f4-a8a2-32917c97d5e8_5\", \"run_number\": 7, \"metric\": null, \"status\": \"Completed\", \"run_type\": null, \"training_percent\": \"100\", \"start_time\": \"2021-11-30T16:12:22.868039Z\", \"end_time\": \"2021-11-30T16:12:46.240372Z\", \"created_time\": \"2021-11-30T16:12:22.717129Z\", \"created_time_dt\": \"2021-11-30T16:12:22.717129Z\", \"duration\": \"0:00:23\", \"iteration\": \"5\", \"goal\": \"spearman_correlation_max\", \"run_name\": \"StandardScalerWrapper, ExtremeRandomTrees\", \"run_properties\": \"\\n    copy=True,\\n    with_mean=False,\\n    with_std=False\\n\", \"primary_metric\": 0.89375422, \"best_metric\": 0.94764685}, {\"run_id\": \"AutoML_4bf64e56-26aa-46f4-a8a2-32917c97d5e8_6\", \"run_number\": 8, \"metric\": null, \"status\": \"Completed\", \"run_type\": null, \"training_percent\": \"100\", \"start_time\": \"2021-11-30T16:12:47.76713Z\", \"end_time\": \"2021-11-30T16:13:19.469545Z\", \"created_time\": \"2021-11-30T16:12:47.636808Z\", \"created_time_dt\": \"2021-11-30T16:12:47.636808Z\", \"duration\": \"0:00:31\", \"iteration\": \"6\", \"goal\": \"spearman_correlation_max\", \"run_name\": \"StandardScalerWrapper, RandomForest\", \"run_properties\": \"\\n    copy=True,\\n    with_mean=False,\\n    with_std=True\\n\", \"primary_metric\": 0.94525826, \"best_metric\": 0.94764685}, {\"run_id\": \"AutoML_4bf64e56-26aa-46f4-a8a2-32917c97d5e8_7\", \"run_number\": 9, \"metric\": null, \"status\": \"Completed\", \"run_type\": null, \"training_percent\": \"100\", \"start_time\": \"2021-11-30T16:13:20.825543Z\", \"end_time\": \"2021-11-30T16:13:42.365242Z\", \"created_time\": \"2021-11-30T16:13:20.691825Z\", \"created_time_dt\": \"2021-11-30T16:13:20.691825Z\", \"duration\": \"0:00:21\", \"iteration\": \"7\", \"goal\": \"spearman_correlation_max\", \"run_name\": \"StandardScalerWrapper, DecisionTree\", \"run_properties\": \"\\n    copy=True,\\n    with_mean=False,\\n    with_std=True\\n\", \"primary_metric\": 0.94411632, \"best_metric\": 0.94764685}, {\"run_id\": \"AutoML_4bf64e56-26aa-46f4-a8a2-32917c97d5e8_8\", \"run_number\": 10, \"metric\": null, \"status\": \"Completed\", \"run_type\": null, \"training_percent\": \"100\", \"start_time\": \"2021-11-30T16:13:44.345698Z\", \"end_time\": \"2021-11-30T16:14:09.868619Z\", \"created_time\": \"2021-11-30T16:13:44.209426Z\", \"created_time_dt\": \"2021-11-30T16:13:44.209426Z\", \"duration\": \"0:00:25\", \"iteration\": \"8\", \"goal\": \"spearman_correlation_max\", \"run_name\": \"StandardScalerWrapper, LightGBM\", \"run_properties\": \"\\n    copy=True,\\n    with_mean=False,\\n    with_std=True\\n\", \"primary_metric\": 0.94511258, \"best_metric\": 0.94764685}, {\"run_id\": \"AutoML_4bf64e56-26aa-46f4-a8a2-32917c97d5e8_9\", \"run_number\": 11, \"metric\": null, \"status\": \"Completed\", \"run_type\": null, \"training_percent\": \"100\", \"start_time\": \"2021-11-30T16:14:11.329889Z\", \"end_time\": \"2021-11-30T16:14:45.205712Z\", \"created_time\": \"2021-11-30T16:14:11.166529Z\", \"created_time_dt\": \"2021-11-30T16:14:11.166529Z\", \"duration\": \"0:00:34\", \"iteration\": \"9\", \"goal\": \"spearman_correlation_max\", \"run_name\": \"StandardScalerWrapper, LightGBM\", \"run_properties\": \"\\n    copy=True,\\n    with_mean=False,\\n    with_std=False\\n\", \"primary_metric\": 0.93756471, \"best_metric\": 0.94764685}, {\"run_id\": \"AutoML_4bf64e56-26aa-46f4-a8a2-32917c97d5e8_10\", \"run_number\": 12, \"metric\": null, \"status\": \"Completed\", \"run_type\": null, \"training_percent\": \"100\", \"start_time\": \"2021-11-30T16:14:46.632281Z\", \"end_time\": \"2021-11-30T16:15:08.092937Z\", \"created_time\": \"2021-11-30T16:14:46.492263Z\", \"created_time_dt\": \"2021-11-30T16:14:46.492263Z\", \"duration\": \"0:00:21\", \"iteration\": \"10\", \"goal\": \"spearman_correlation_max\", \"run_name\": \"StandardScalerWrapper, ElasticNet\", \"run_properties\": \"\\n    copy=True,\\n    with_mean=False,\\n    with_std=True\\n\", \"primary_metric\": 0.94397066, \"best_metric\": 0.94764685}, {\"run_id\": \"AutoML_4bf64e56-26aa-46f4-a8a2-32917c97d5e8_11\", \"run_number\": 13, \"metric\": null, \"status\": \"Completed\", \"run_type\": null, \"training_percent\": \"100\", \"start_time\": \"2021-11-30T16:15:09.69636Z\", \"end_time\": \"2021-11-30T16:15:42.427308Z\", \"created_time\": \"2021-11-30T16:15:09.552543Z\", \"created_time_dt\": \"2021-11-30T16:15:09.552543Z\", \"duration\": \"0:00:32\", \"iteration\": \"11\", \"goal\": \"spearman_correlation_max\", \"run_name\": \"StandardScalerWrapper, ElasticNet\", \"run_properties\": \"\\n    copy=True,\\n    with_mean=False,\\n    with_std=False\\n\", \"primary_metric\": 0.94332236, \"best_metric\": 0.94764685}, {\"run_id\": \"AutoML_4bf64e56-26aa-46f4-a8a2-32917c97d5e8_12\", \"run_number\": 14, \"metric\": null, \"status\": \"Completed\", \"run_type\": null, \"training_percent\": \"100\", \"start_time\": \"2021-11-30T16:15:43.86389Z\", \"end_time\": \"2021-11-30T16:28:25.083551Z\", \"created_time\": \"2021-11-30T16:15:43.726157Z\", \"created_time_dt\": \"2021-11-30T16:15:43.726157Z\", \"duration\": \"0:12:41\", \"iteration\": \"12\", \"goal\": \"spearman_correlation_max\", \"run_name\": \"MaxAbsScaler, ExtremeRandomTrees\", \"run_properties\": \"copy=True\", \"primary_metric\": 0.92902862, \"best_metric\": 0.94764685}, {\"run_id\": \"AutoML_4bf64e56-26aa-46f4-a8a2-32917c97d5e8_13\", \"run_number\": 15, \"metric\": null, \"status\": \"Completed\", \"run_type\": null, \"training_percent\": \"100\", \"start_time\": \"2021-11-30T16:28:25.532941Z\", \"end_time\": \"2021-11-30T16:28:54.267631Z\", \"created_time\": \"2021-11-30T16:28:25.385592Z\", \"created_time_dt\": \"2021-11-30T16:28:25.385592Z\", \"duration\": \"0:00:28\", \"iteration\": \"13\", \"goal\": \"spearman_correlation_max\", \"run_name\": \"VotingEnsemble\", \"run_properties\": \"\\n    estimators=[('1', Pipeline(\\n        memory=None,\\n        steps=[('maxabsscaler', MaxAbsScaler(\\n            copy=True\\n        \", \"primary_metric\": 0.94815964, \"best_metric\": 0.94815964}, {\"run_id\": \"AutoML_4bf64e56-26aa-46f4-a8a2-32917c97d5e8_14\", \"run_number\": 16, \"metric\": null, \"status\": \"Completed\", \"run_type\": null, \"training_percent\": \"100\", \"start_time\": \"2021-11-30T16:28:54.68279Z\", \"end_time\": \"2021-11-30T16:29:23.113774Z\", \"created_time\": \"2021-11-30T16:28:54.551914Z\", \"created_time_dt\": \"2021-11-30T16:28:54.551914Z\", \"duration\": \"0:00:28\", \"iteration\": \"14\", \"goal\": \"spearman_correlation_max\", \"run_name\": \"StackEnsemble\", \"run_properties\": \"\\n    base_learners=[('1', Pipeline(\\n        memory=None,\\n        steps=[('maxabsscaler', MaxAbsScaler(\\n            copy=True\\n        \", \"primary_metric\": 0.94733648, \"best_metric\": 0.94815964}], \"children_metrics\": {\"categories\": [0], \"series\": {\"median_absolute_error\": [{\"categories\": [\"0\", \"1\", \"2\", \"3\", \"4\", \"5\", \"6\", \"7\", \"8\", \"9\", \"10\", \"11\", \"12\", \"13\", \"14\"], \"mode\": \"markers\", \"name\": \"median_absolute_error\", \"stepped\": false, \"type\": \"scatter\", \"data\": [1.2298260325319645, 1.240302709579468, 1.3676530152297863, 1.2304088134765618, 1.4370689125061038, 2.9628134780028956, 1.325563444174533, 1.2677209365220103, 1.2838144342656663, 1.3702248447672964, 1.4446651608044958, 1.365353435624454, 1.655699999999999, 1.2261003042406098, 1.2540078153317882]}, {\"categories\": [\"0\", \"1\", \"2\", \"3\", \"4\", \"5\", \"6\", \"7\", \"8\", \"9\", \"10\", \"11\", \"12\", \"13\", \"14\"], \"mode\": \"lines\", \"name\": \"median_absolute_error_min\", \"stepped\": true, \"type\": \"scatter\", \"data\": [1.2298260325319645, 1.2298260325319645, 1.2298260325319645, 1.2298260325319645, 1.2298260325319645, 1.2298260325319645, 1.2298260325319645, 1.2298260325319645, 1.2298260325319645, 1.2298260325319645, 1.2298260325319645, 1.2298260325319645, 1.2298260325319645, 1.2261003042406098, 1.2261003042406098]}], \"normalized_median_absolute_error\": [{\"categories\": [\"0\", \"1\", \"2\", \"3\", \"4\", \"5\", \"6\", \"7\", \"8\", \"9\", \"10\", \"11\", \"12\", \"13\", \"14\"], \"mode\": \"markers\", \"name\": \"normalized_median_absolute_error\", \"stepped\": false, \"type\": \"scatter\", \"data\": [0.0026170965962971663, 0.0026393911933509278, 0.002910395418858074, 0.002618336766846616, 0.0030581139608999485, 0.006304931643690194, 0.002820827894481046, 0.002697737777753682, 0.002731985091644677, 0.002915868328156487, 0.0030742789428083415, 0.002905501863347919, 0.0035233656792645535, 0.0026091681653060304, 0.0026685559570390456]}, {\"categories\": [\"0\", \"1\", \"2\", \"3\", \"4\", \"5\", \"6\", \"7\", \"8\", \"9\", \"10\", \"11\", \"12\", \"13\", \"14\"], \"mode\": \"lines\", \"name\": \"normalized_median_absolute_error_min\", \"stepped\": true, \"type\": \"scatter\", \"data\": [0.0026170965962971663, 0.0026170965962971663, 0.0026170965962971663, 0.0026170965962971663, 0.0026170965962971663, 0.0026170965962971663, 0.0026170965962971663, 0.0026170965962971663, 0.0026170965962971663, 0.0026170965962971663, 0.0026170965962971663, 0.0026170965962971663, 0.0026170965962971663, 0.0026091681653060304, 0.0026091681653060304]}], \"root_mean_squared_log_error\": [{\"categories\": [\"0\", \"1\", \"2\", \"3\", \"4\", \"5\", \"6\", \"7\", \"8\", \"9\", \"10\", \"11\", \"12\", \"13\", \"14\"], \"mode\": \"markers\", \"name\": \"root_mean_squared_log_error\", \"stepped\": false, \"type\": \"scatter\", \"data\": [0.170875728606653, 0.1715577173741419, 0.1787286132881295, 0.17375003574331008, 0.2011228175917048, 0.3194327540143593, 0.17800369848333833, 0.17556011285138484, 0.17455556608824002, 0.18675284666271236, 0.1826211757642472, 0.1787492512552133, 0.23750066679854429, 0.17039849717253094, 0.17182210040348017]}, {\"categories\": [\"0\", \"1\", \"2\", \"3\", \"4\", \"5\", \"6\", \"7\", \"8\", \"9\", \"10\", \"11\", \"12\", \"13\", \"14\"], \"mode\": \"lines\", \"name\": \"root_mean_squared_log_error_min\", \"stepped\": true, \"type\": \"scatter\", \"data\": [0.170875728606653, 0.170875728606653, 0.170875728606653, 0.170875728606653, 0.170875728606653, 0.170875728606653, 0.170875728606653, 0.170875728606653, 0.170875728606653, 0.170875728606653, 0.170875728606653, 0.170875728606653, 0.170875728606653, 0.17039849717253094, 0.17039849717253094]}], \"spearman_correlation\": [{\"categories\": [\"0\", \"1\", \"2\", \"3\", \"4\", \"5\", \"6\", \"7\", \"8\", \"9\", \"10\", \"11\", \"12\", \"13\", \"14\"], \"mode\": \"markers\", \"name\": \"spearman_correlation\", \"stepped\": false, \"type\": \"scatter\", \"data\": [0.9468765691303261, 0.9476468521194722, 0.9434515155327048, 0.9454742404430803, 0.9387294328168311, 0.8937542210307223, 0.9452582616729333, 0.9441163157255928, 0.9451125768821751, 0.9375647092224548, 0.9439706572736959, 0.9433223571967695, 0.9290286167748901, 0.9481596414302607, 0.9473364843229477]}, {\"categories\": [\"0\", \"1\", \"2\", \"3\", \"4\", \"5\", \"6\", \"7\", \"8\", \"9\", \"10\", \"11\", \"12\", \"13\", \"14\"], \"mode\": \"lines\", \"name\": \"spearman_correlation_max\", \"stepped\": true, \"type\": \"scatter\", \"data\": [0.9468765691303261, 0.9476468521194722, 0.9476468521194722, 0.9476468521194722, 0.9476468521194722, 0.9476468521194722, 0.9476468521194722, 0.9476468521194722, 0.9476468521194722, 0.9476468521194722, 0.9476468521194722, 0.9476468521194722, 0.9476468521194722, 0.9481596414302607, 0.9481596414302607]}], \"normalized_root_mean_squared_log_error\": [{\"categories\": [\"0\", \"1\", \"2\", \"3\", \"4\", \"5\", \"6\", \"7\", \"8\", \"9\", \"10\", \"11\", \"12\", \"13\", \"14\"], \"mode\": \"markers\", \"name\": \"normalized_root_mean_squared_log_error\", \"stepped\": false, \"type\": \"scatter\", \"data\": [0.028114284779745605, 0.028226492795372603, 0.02940632454500538, 0.028587196234423, 0.03309085623561089, 0.052556460110324076, 0.02928705388305041, 0.02888500929251305, 0.02871973061891841, 0.030726556412174012, 0.03004677015345362, 0.029409720121946585, 0.03907612529994954, 0.0280357656093862, 0.02826999189169458]}, {\"categories\": [\"0\", \"1\", \"2\", \"3\", \"4\", \"5\", \"6\", \"7\", \"8\", \"9\", \"10\", \"11\", \"12\", \"13\", \"14\"], \"mode\": \"lines\", \"name\": \"normalized_root_mean_squared_log_error_min\", \"stepped\": true, \"type\": \"scatter\", \"data\": [0.028114284779745605, 0.028114284779745605, 0.028114284779745605, 0.028114284779745605, 0.028114284779745605, 0.028114284779745605, 0.028114284779745605, 0.028114284779745605, 0.028114284779745605, 0.028114284779745605, 0.028114284779745605, 0.028114284779745605, 0.028114284779745605, 0.0280357656093862, 0.0280357656093862]}], \"mean_absolute_error\": [{\"categories\": [\"0\", \"1\", \"2\", \"3\", \"4\", \"5\", \"6\", \"7\", \"8\", \"9\", \"10\", \"11\", \"12\", \"13\", \"14\"], \"mode\": \"markers\", \"name\": \"mean_absolute_error\", \"stepped\": false, \"type\": \"scatter\", \"data\": [2.080226897451893, 2.094665211629195, 2.1413634429622967, 2.1029859834548272, 2.3519325930912194, 4.0370210055127895, 2.179741693704555, 2.1471300844324612, 2.1206968248608713, 2.323908026683316, 2.1679735999123837, 2.1418956462902594, 3.1188817354827516, 2.061947821023044, 2.0680756286391238]}, {\"categories\": [\"0\", \"1\", \"2\", \"3\", \"4\", \"5\", \"6\", \"7\", \"8\", \"9\", \"10\", \"11\", \"12\", \"13\", \"14\"], \"mode\": \"lines\", \"name\": \"mean_absolute_error_min\", \"stepped\": true, \"type\": \"scatter\", \"data\": [2.080226897451893, 2.080226897451893, 2.080226897451893, 2.080226897451893, 2.080226897451893, 2.080226897451893, 2.080226897451893, 2.080226897451893, 2.080226897451893, 2.080226897451893, 2.080226897451893, 2.080226897451893, 2.080226897451893, 2.061947821023044, 2.061947821023044]}], \"normalized_root_mean_squared_error\": [{\"categories\": [\"0\", \"1\", \"2\", \"3\", \"4\", \"5\", \"6\", \"7\", \"8\", \"9\", \"10\", \"11\", \"12\", \"13\", \"14\"], \"mode\": \"markers\", \"name\": \"normalized_root_mean_squared_error\", \"stepped\": false, \"type\": \"scatter\", \"data\": [0.009549091198886748, 0.01100574936281161, 0.00950859422609117, 0.009872183997188052, 0.010517985870434763, 0.01542850257428946, 0.010216941408263491, 0.009879308765946166, 0.009886756052812088, 0.010925381932289414, 0.009521568353412762, 0.009510242329013482, 0.014490477180406542, 0.009827388063290554, 0.009509630512127745]}, {\"categories\": [\"0\", \"1\", \"2\", \"3\", \"4\", \"5\", \"6\", \"7\", \"8\", \"9\", \"10\", \"11\", \"12\", \"13\", \"14\"], \"mode\": \"lines\", \"name\": \"normalized_root_mean_squared_error_min\", \"stepped\": true, \"type\": \"scatter\", \"data\": [0.009549091198886748, 0.009549091198886748, 0.00950859422609117, 0.00950859422609117, 0.00950859422609117, 0.00950859422609117, 0.00950859422609117, 0.00950859422609117, 0.00950859422609117, 0.00950859422609117, 0.00950859422609117, 0.00950859422609117, 0.00950859422609117, 0.00950859422609117, 0.00950859422609117]}], \"normalized_mean_absolute_error\": [{\"categories\": [\"0\", \"1\", \"2\", \"3\", \"4\", \"5\", \"6\", \"7\", \"8\", \"9\", \"10\", \"11\", \"12\", \"13\", \"14\"], \"mode\": \"markers\", \"name\": \"normalized_mean_absolute_error\", \"stepped\": false, \"type\": \"scatter\", \"data\": [0.004426768167883667, 0.00445749321507745, 0.0045568680689527935, 0.00447519999883986, 0.005004963808927518, 0.0085908686702264, 0.0046385378228305995, 0.00456913960766186, 0.004512889055287861, 0.004945326920929766, 0.004613495062802996, 0.004558000609231912, 0.006637048296481851, 0.004387869894924762, 0.004400910003062486]}, {\"categories\": [\"0\", \"1\", \"2\", \"3\", \"4\", \"5\", \"6\", \"7\", \"8\", \"9\", \"10\", \"11\", \"12\", \"13\", \"14\"], \"mode\": \"lines\", \"name\": \"normalized_mean_absolute_error_min\", \"stepped\": true, \"type\": \"scatter\", \"data\": [0.004426768167883667, 0.004426768167883667, 0.004426768167883667, 0.004426768167883667, 0.004426768167883667, 0.004426768167883667, 0.004426768167883667, 0.004426768167883667, 0.004426768167883667, 0.004426768167883667, 0.004426768167883667, 0.004426768167883667, 0.004426768167883667, 0.004387869894924762, 0.004387869894924762]}], \"explained_variance\": [{\"categories\": [\"0\", \"1\", \"2\", \"3\", \"4\", \"5\", \"6\", \"7\", \"8\", \"9\", \"10\", \"11\", \"12\", \"13\", \"14\"], \"mode\": \"markers\", \"name\": \"explained_variance\", \"stepped\": false, \"type\": \"scatter\", \"data\": [0.8300898398873784, 0.764333639680472, 0.8307293129934751, 0.8184893526218943, 0.8036116038308814, 0.562616470102874, 0.80509935533497, 0.8177952635532575, 0.817136277940218, 0.7792340716255634, 0.8301338237725092, 0.8306795074041876, 0.6334964313183962, 0.8194134028701786, 0.8306609197102244]}, {\"categories\": [\"0\", \"1\", \"2\", \"3\", \"4\", \"5\", \"6\", \"7\", \"8\", \"9\", \"10\", \"11\", \"12\", \"13\", \"14\"], \"mode\": \"lines\", \"name\": \"explained_variance_max\", \"stepped\": true, \"type\": \"scatter\", \"data\": [0.8300898398873784, 0.8300898398873784, 0.8307293129934751, 0.8307293129934751, 0.8307293129934751, 0.8307293129934751, 0.8307293129934751, 0.8307293129934751, 0.8307293129934751, 0.8307293129934751, 0.8307293129934751, 0.8307293129934751, 0.8307293129934751, 0.8307293129934751, 0.8307293129934751]}], \"root_mean_squared_error\": [{\"categories\": [\"0\", \"1\", \"2\", \"3\", \"4\", \"5\", \"6\", \"7\", \"8\", \"9\", \"10\", \"11\", \"12\", \"13\", \"14\"], \"mode\": \"markers\", \"name\": \"root_mean_squared_error\", \"stepped\": false, \"type\": \"scatter\", \"data\": [4.487308936180861, 5.171821740572431, 4.468278598724763, 4.63913670395861, 4.942611920234704, 7.250161929710103, 4.80114510657118, 4.642484775293422, 4.645984404337456, 5.134055477621443, 4.474375400635724, 4.469053075250016, 6.809365036616643, 4.618086198701497, 4.4687655702590705]}, {\"categories\": [\"0\", \"1\", \"2\", \"3\", \"4\", \"5\", \"6\", \"7\", \"8\", \"9\", \"10\", \"11\", \"12\", \"13\", \"14\"], \"mode\": \"lines\", \"name\": \"root_mean_squared_error_min\", \"stepped\": true, \"type\": \"scatter\", \"data\": [4.487308936180861, 4.487308936180861, 4.468278598724763, 4.468278598724763, 4.468278598724763, 4.468278598724763, 4.468278598724763, 4.468278598724763, 4.468278598724763, 4.468278598724763, 4.468278598724763, 4.468278598724763, 4.468278598724763, 4.468278598724763, 4.468278598724763]}], \"r2_score\": [{\"categories\": [\"0\", \"1\", \"2\", \"3\", \"4\", \"5\", \"6\", \"7\", \"8\", \"9\", \"10\", \"11\", \"12\", \"13\", \"14\"], \"mode\": \"markers\", \"name\": \"r2_score\", \"stepped\": false, \"type\": \"scatter\", \"data\": [0.8300357991143283, 0.764223044874278, 0.8306738484164284, 0.8184209074124367, 0.7944399018789392, 0.5625375847788351, 0.8050423584977062, 0.8177380164973137, 0.8171093736228838, 0.7791501142541444, 0.8300865248587659, 0.8306236680478666, 0.6156691250715879, 0.8193464000531762, 0.8305665942814352]}, {\"categories\": [\"0\", \"1\", \"2\", \"3\", \"4\", \"5\", \"6\", \"7\", \"8\", \"9\", \"10\", \"11\", \"12\", \"13\", \"14\"], \"mode\": \"lines\", \"name\": \"r2_score_max\", \"stepped\": true, \"type\": \"scatter\", \"data\": [0.8300357991143283, 0.8300357991143283, 0.8306738484164284, 0.8306738484164284, 0.8306738484164284, 0.8306738484164284, 0.8306738484164284, 0.8306738484164284, 0.8306738484164284, 0.8306738484164284, 0.8306738484164284, 0.8306738484164284, 0.8306738484164284, 0.8306738484164284, 0.8306738484164284]}], \"mean_absolute_percentage_error\": [{\"categories\": [\"0\", \"1\", \"2\", \"3\", \"4\", \"5\", \"6\", \"7\", \"8\", \"9\", \"10\", \"11\", \"12\", \"13\", \"14\"], \"mode\": \"markers\", \"name\": \"mean_absolute_percentage_error\", \"stepped\": false, \"type\": \"scatter\", \"data\": [15.957089685771006, 16.01209707881349, 17.002736209965768, 16.1060961080749, 18.087348206079906, 34.30744593322844, 16.873201724624742, 16.401509214366765, 16.321998891747537, 17.379231880596077, 17.67209701486143, 16.99421998942119, 21.141824531001326, 15.960174007048238, 16.116206041304896]}, {\"categories\": [\"0\", \"1\", \"2\", \"3\", \"4\", \"5\", \"6\", \"7\", \"8\", \"9\", \"10\", \"11\", \"12\", \"13\", \"14\"], \"mode\": \"lines\", \"name\": \"mean_absolute_percentage_error_min\", \"stepped\": true, \"type\": \"scatter\", \"data\": [15.957089685771006, 15.957089685771006, 15.957089685771006, 15.957089685771006, 15.957089685771006, 15.957089685771006, 15.957089685771006, 15.957089685771006, 15.957089685771006, 15.957089685771006, 15.957089685771006, 15.957089685771006, 15.957089685771006, 15.957089685771006, 15.957089685771006]}]}, \"metricName\": null, \"primaryMetricName\": \"spearman_correlation\", \"showLegend\": false}, \"run_metrics\": [{\"name\": \"explained_variance\", \"run_id\": \"AutoML_4bf64e56-26aa-46f4-a8a2-32917c97d5e8\", \"categories\": [0], \"series\": [{\"data\": [0.8194134028701786]}]}, {\"name\": \"normalized_root_mean_squared_error\", \"run_id\": \"AutoML_4bf64e56-26aa-46f4-a8a2-32917c97d5e8\", \"categories\": [0], \"series\": [{\"data\": [0.009827388063290554]}]}, {\"name\": \"normalized_root_mean_squared_log_error\", \"run_id\": \"AutoML_4bf64e56-26aa-46f4-a8a2-32917c97d5e8\", \"categories\": [0], \"series\": [{\"data\": [0.0280357656093862]}]}, {\"name\": \"mean_absolute_percentage_error\", \"run_id\": \"AutoML_4bf64e56-26aa-46f4-a8a2-32917c97d5e8\", \"categories\": [0], \"series\": [{\"data\": [15.960174007048238]}]}, {\"name\": \"root_mean_squared_log_error\", \"run_id\": \"AutoML_4bf64e56-26aa-46f4-a8a2-32917c97d5e8\", \"categories\": [0], \"series\": [{\"data\": [0.17039849717253094]}]}, {\"name\": \"normalized_mean_absolute_error\", \"run_id\": \"AutoML_4bf64e56-26aa-46f4-a8a2-32917c97d5e8\", \"categories\": [0], \"series\": [{\"data\": [0.004387869894924762]}]}, {\"name\": \"spearman_correlation\", \"run_id\": \"AutoML_4bf64e56-26aa-46f4-a8a2-32917c97d5e8\", \"categories\": [0], \"series\": [{\"data\": [0.9481596414302607]}]}, {\"name\": \"r2_score\", \"run_id\": \"AutoML_4bf64e56-26aa-46f4-a8a2-32917c97d5e8\", \"categories\": [0], \"series\": [{\"data\": [0.8193464000531762]}]}, {\"name\": \"normalized_median_absolute_error\", \"run_id\": \"AutoML_4bf64e56-26aa-46f4-a8a2-32917c97d5e8\", \"categories\": [0], \"series\": [{\"data\": [0.0026091681653060304]}]}, {\"name\": \"root_mean_squared_error\", \"run_id\": \"AutoML_4bf64e56-26aa-46f4-a8a2-32917c97d5e8\", \"categories\": [0], \"series\": [{\"data\": [4.618086198701497]}]}, {\"name\": \"mean_absolute_error\", \"run_id\": \"AutoML_4bf64e56-26aa-46f4-a8a2-32917c97d5e8\", \"categories\": [0], \"series\": [{\"data\": [2.061947821023044]}]}, {\"name\": \"median_absolute_error\", \"run_id\": \"AutoML_4bf64e56-26aa-46f4-a8a2-32917c97d5e8\", \"categories\": [0], \"series\": [{\"data\": [1.2261003042406098]}]}], \"run_logs\": \"\\nRun is completed.\", \"graph\": {}, \"widget_settings\": {\"childWidgetDisplay\": \"popup\", \"send_telemetry\": false, \"log_level\": \"INFO\", \"sdk_version\": \"1.34.0\"}, \"loading\": false}"
          },
          "metadata": {}
        }
      ],
      "execution_count": 12,
      "metadata": {
        "jupyter": {
          "source_hidden": false,
          "outputs_hidden": false
        },
        "nteract": {
          "transient": {
            "deleting": false
          }
        },
        "gather": {
          "logged": 1638290257646
        }
      }
    },
    {
      "cell_type": "code",
      "source": [
        "best_run, fitted_model = local_run.get_output()\r\n",
        "print(best_run)\r\n",
        "print(fitted_model)"
      ],
      "outputs": [
        {
          "output_type": "stream",
          "name": "stdout",
          "text": "Run(Experiment: Tutorial-NYCTaxi,\nId: AutoML_4bf64e56-26aa-46f4-a8a2-32917c97d5e8_13,\nType: None,\nStatus: Completed)\nRegressionPipeline(pipeline=Pipeline(memory=None,\n                                     steps=[('datatransformer',\n                                             DataTransformer(enable_dnn=False, enable_feature_sweeping=True, feature_sweeping_config={}, feature_sweeping_timeout=86400, featurization_config=None, force_text_dnn=False, is_cross_validation=True, is_onnx_compatible=False, observer=None, task='regression', working_dir='/mnt/batch/ta...\n)), ('lightgbmregressor', LightGBMRegressor(boosting_type='gbdt', colsample_bytree=0.5, learning_rate=0.13684526315789475, max_bin=255, max_depth=10, min_data_in_leaf=0.03357306998050675, min_split_gain=0.3157894736842105, n_estimators=600, n_jobs=1, num_leaves=255, problem_info=ProblemInfo(\n    gpu_training_param_dict={'processing_unit_type': 'cpu'}\n), random_state=None, reg_alpha=1.275, reg_lambda=0.825, subsample=0.9, subsample_freq=7))], verbose=False))], weights=[0.4, 0.2, 0.13333333333333333, 0.06666666666666667, 0.06666666666666667, 0.06666666666666667, 0.06666666666666667]))],\n                                     verbose=False),\n                   stddev=[4.9373699621579075])\n"
        }
      ],
      "execution_count": 15,
      "metadata": {
        "jupyter": {
          "source_hidden": false,
          "outputs_hidden": false
        },
        "nteract": {
          "transient": {
            "deleting": false
          }
        },
        "gather": {
          "logged": 1638290364299
        }
      }
    },
    {
      "cell_type": "code",
      "source": [
        "y_test = x_test.pop(\"totalAmount\")\r\n",
        "\r\n",
        "y_predict = fitted_model.predict(x_test)\r\n",
        "print(y_predict[:10])"
      ],
      "outputs": [
        {
          "output_type": "stream",
          "name": "stdout",
          "text": "[10.20950571 11.30586808 22.07067854  8.88184256 39.01855827  8.22815589\n 21.54781134  7.06540135  6.24634941 20.81244077]\n"
        }
      ],
      "execution_count": 16,
      "metadata": {
        "jupyter": {
          "source_hidden": false,
          "outputs_hidden": false
        },
        "nteract": {
          "transient": {
            "deleting": false
          }
        },
        "gather": {
          "logged": 1638290387947
        }
      }
    },
    {
      "cell_type": "code",
      "source": [
        "from sklearn.metrics import mean_squared_error\r\n",
        "from math import sqrt\r\n",
        "\r\n",
        "y_actual = y_test.values.flatten().tolist()\r\n",
        "rmse = sqrt(mean_squared_error(y_actual, y_predict))\r\n",
        "rmse"
      ],
      "outputs": [
        {
          "output_type": "execute_result",
          "execution_count": 17,
          "data": {
            "text/plain": "4.720198773829457"
          },
          "metadata": {}
        }
      ],
      "execution_count": 17,
      "metadata": {
        "jupyter": {
          "source_hidden": false,
          "outputs_hidden": false
        },
        "nteract": {
          "transient": {
            "deleting": false
          }
        },
        "gather": {
          "logged": 1638290402844
        }
      }
    },
    {
      "cell_type": "code",
      "source": [
        "sum_actuals = sum_errors = 0\r\n",
        "\r\n",
        "for actual_val, predict_val in zip(y_actual, y_predict):\r\n",
        "    abs_error = actual_val - predict_val\r\n",
        "    if abs_error < 0:\r\n",
        "        abs_error = abs_error * -1\r\n",
        "\r\n",
        "    sum_errors = sum_errors + abs_error\r\n",
        "    sum_actuals = sum_actuals + actual_val\r\n",
        "\r\n",
        "mean_abs_percent_error = sum_errors / sum_actuals\r\n",
        "print(\"Model MAPE:\")\r\n",
        "print(mean_abs_percent_error)\r\n",
        "print()\r\n",
        "print(\"Model Accuracy:\")\r\n",
        "print(1 - mean_abs_percent_error)"
      ],
      "outputs": [
        {
          "output_type": "stream",
          "name": "stdout",
          "text": "Model MAPE:\n0.13836315218808812\n\nModel Accuracy:\n0.8616368478119119\n"
        }
      ],
      "execution_count": 18,
      "metadata": {
        "jupyter": {
          "source_hidden": false,
          "outputs_hidden": false
        },
        "nteract": {
          "transient": {
            "deleting": false
          }
        },
        "gather": {
          "logged": 1638290413434
        }
      }
    }
  ],
  "metadata": {
    "kernelspec": {
      "name": "python3-azureml",
      "language": "python",
      "display_name": "Python 3.6 - AzureML"
    },
    "language_info": {
      "name": "python",
      "version": "3.6.9",
      "mimetype": "text/x-python",
      "codemirror_mode": {
        "name": "ipython",
        "version": 3
      },
      "pygments_lexer": "ipython3",
      "nbconvert_exporter": "python",
      "file_extension": ".py"
    },
    "kernel_info": {
      "name": "python3-azureml"
    },
    "microsoft": {
      "host": {
        "AzureML": {
          "notebookHasBeenCompleted": true
        }
      }
    },
    "nteract": {
      "version": "nteract-front-end@1.0.0"
    }
  },
  "nbformat": 4,
  "nbformat_minor": 2
}