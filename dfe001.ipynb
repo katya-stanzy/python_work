{
  "nbformat": 4,
  "nbformat_minor": 0,
  "metadata": {
    "colab": {
      "name": "dfe001.ipynb",
      "provenance": [],
      "collapsed_sections": [],
      "authorship_tag": "ABX9TyOCsyDtTRrUe5z+g/OhUbqu",
      "include_colab_link": true
    },
    "kernelspec": {
      "name": "python3",
      "display_name": "Python 3"
    },
    "language_info": {
      "name": "python"
    }
  },
  "cells": [
    {
      "cell_type": "markdown",
      "metadata": {
        "id": "view-in-github",
        "colab_type": "text"
      },
      "source": [
        "<a href=\"https://colab.research.google.com/github/katya-stanzy/python_work/blob/main/dfe001.ipynb\" target=\"_parent\"><img src=\"https://colab.research.google.com/assets/colab-badge.svg\" alt=\"Open In Colab\"/></a>"
      ]
    },
    {
      "cell_type": "code",
      "metadata": {
        "colab": {
          "base_uri": "https://localhost:8080/"
        },
        "id": "kXTQsxpBaUD-",
        "outputId": "75462869-e9a1-4296-8b5c-0fd6a7b46d52"
      },
      "source": [
        "# Series and Propagation\n",
        "# series can be generated, transformed or converted with some logic = propagation\n",
        "\n",
        "blah = [10,20,30,40,50]\n",
        "#\n",
        "# result = [11, 21, 31, 41, 51]\n",
        "blah2 = []\n",
        "for element in blah:\n",
        "    newresult = element +1\n",
        "    blah2.append(newresult)\n",
        "\n",
        "print(blah2) "
      ],
      "execution_count": 3,
      "outputs": [
        {
          "output_type": "stream",
          "name": "stdout",
          "text": [
            "[11, 21, 31, 41, 51]\n"
          ]
        }
      ]
    },
    {
      "cell_type": "code",
      "metadata": {
        "colab": {
          "base_uri": "https://localhost:8080/"
        },
        "id": "krqP3cbQeRjG",
        "outputId": "3d054c37-2e5a-41c0-9827-07dabe0bcf5a"
      },
      "source": [
        "a = [1,2,3,4,5]\n",
        "result = [] # calculating square\n",
        "for b in a:\n",
        "  newresult = b*b\n",
        "  result.append(newresult)\n",
        "print(result)"
      ],
      "execution_count": 4,
      "outputs": [
        {
          "output_type": "stream",
          "name": "stdout",
          "text": [
            "[1, 4, 9, 16, 25]\n"
          ]
        }
      ]
    },
    {
      "cell_type": "code",
      "metadata": {
        "colab": {
          "base_uri": "https://localhost:8080/"
        },
        "id": "dZKcU46NfoYG",
        "outputId": "38a53097-f522-415e-de85-a6f9687249f6"
      },
      "source": [
        "a = [1,2,3,4,5]\n",
        "result1 = [element+1 for element in a] # LIST COMPREHENSION ALLOWS US TO GENERARTE SERIES OR CREATE TRANSFORMATIONS\n",
        "result2 = [element*element for element in a]\n",
        "print(result1)\n",
        "print(result2)"
      ],
      "execution_count": 6,
      "outputs": [
        {
          "output_type": "stream",
          "name": "stdout",
          "text": [
            "[2, 3, 4, 5, 6]\n",
            "[1, 4, 9, 16, 25]\n"
          ]
        }
      ]
    },
    {
      "cell_type": "code",
      "metadata": {
        "colab": {
          "base_uri": "https://localhost:8080/"
        },
        "id": "vyEz4AjbgQLg",
        "outputId": "ed7fc929-205f-41e9-ecb8-946b08bde7b4"
      },
      "source": [
        "mydata = [10,20,30,40,50]\n",
        "# result = [5, 10, 15, 20, 25]\n",
        "result3=[int(element/2) for element in mydata]\n",
        "print(result3)"
      ],
      "execution_count": 10,
      "outputs": [
        {
          "output_type": "stream",
          "name": "stdout",
          "text": [
            "[5, 10, 15, 20, 25]\n"
          ]
        }
      ]
    },
    {
      "cell_type": "code",
      "metadata": {
        "id": "PptRQr7phQLH"
      },
      "source": [
        ""
      ],
      "execution_count": null,
      "outputs": []
    }
  ]
}