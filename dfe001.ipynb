{
  "nbformat": 4,
  "nbformat_minor": 0,
  "metadata": {
    "colab": {
      "name": "dfe001.ipynb",
      "provenance": [],
      "collapsed_sections": [],
      "authorship_tag": "ABX9TyPYGQAz+Zbxiqe0oZVLGbtO",
      "include_colab_link": true
    },
    "kernelspec": {
      "name": "python3",
      "display_name": "Python 3"
    },
    "language_info": {
      "name": "python"
    }
  },
  "cells": [
    {
      "cell_type": "markdown",
      "metadata": {
        "id": "view-in-github",
        "colab_type": "text"
      },
      "source": [
        "<a href=\"https://colab.research.google.com/github/katya-stanzy/python_work/blob/main/dfe001.ipynb\" target=\"_parent\"><img src=\"https://colab.research.google.com/assets/colab-badge.svg\" alt=\"Open In Colab\"/></a>"
      ]
    },
    {
      "cell_type": "code",
      "metadata": {
        "colab": {
          "base_uri": "https://localhost:8080/"
        },
        "id": "kXTQsxpBaUD-",
        "outputId": "75462869-e9a1-4296-8b5c-0fd6a7b46d52"
      },
      "source": [
        "# Series and Propagation\n",
        "# series can be generated, transformed or converted with some logic = propagation\n",
        "\n",
        "blah = [10,20,30,40,50]\n",
        "#\n",
        "# result = [11, 21, 31, 41, 51]\n",
        "blah2 = []\n",
        "for element in blah:\n",
        "    newresult = element +1\n",
        "    blah2.append(newresult)\n",
        "\n",
        "print(blah2) "
      ],
      "execution_count": 3,
      "outputs": [
        {
          "output_type": "stream",
          "name": "stdout",
          "text": [
            "[11, 21, 31, 41, 51]\n"
          ]
        }
      ]
    },
    {
      "cell_type": "code",
      "metadata": {
        "colab": {
          "base_uri": "https://localhost:8080/"
        },
        "id": "krqP3cbQeRjG",
        "outputId": "3d054c37-2e5a-41c0-9827-07dabe0bcf5a"
      },
      "source": [
        "a = [1,2,3,4,5]\n",
        "result = [] # calculating square\n",
        "for b in a:\n",
        "  newresult = b*b\n",
        "  result.append(newresult)\n",
        "print(result)"
      ],
      "execution_count": 4,
      "outputs": [
        {
          "output_type": "stream",
          "name": "stdout",
          "text": [
            "[1, 4, 9, 16, 25]\n"
          ]
        }
      ]
    },
    {
      "cell_type": "code",
      "metadata": {
        "colab": {
          "base_uri": "https://localhost:8080/"
        },
        "id": "dZKcU46NfoYG",
        "outputId": "38a53097-f522-415e-de85-a6f9687249f6"
      },
      "source": [
        "a = [1,2,3,4,5]\n",
        "result1 = [element+1 for element in a] # LIST COMPREHENSION ALLOWS US TO GENERARTE SERIES OR CREATE TRANSFORMATIONS\n",
        "result2 = [element*element for element in a]\n",
        "print(result1)\n",
        "print(result2)"
      ],
      "execution_count": 6,
      "outputs": [
        {
          "output_type": "stream",
          "name": "stdout",
          "text": [
            "[2, 3, 4, 5, 6]\n",
            "[1, 4, 9, 16, 25]\n"
          ]
        }
      ]
    },
    {
      "cell_type": "code",
      "metadata": {
        "colab": {
          "base_uri": "https://localhost:8080/"
        },
        "id": "vyEz4AjbgQLg",
        "outputId": "ed7fc929-205f-41e9-ecb8-946b08bde7b4"
      },
      "source": [
        "mydata = [10,20,30,40,50]\n",
        "# result = [5, 10, 15, 20, 25]\n",
        "result3=[int(element/2) for element in mydata]\n",
        "print(result3)"
      ],
      "execution_count": 10,
      "outputs": [
        {
          "output_type": "stream",
          "name": "stdout",
          "text": [
            "[5, 10, 15, 20, 25]\n"
          ]
        }
      ]
    },
    {
      "cell_type": "code",
      "metadata": {
        "colab": {
          "base_uri": "https://localhost:8080/"
        },
        "id": "PptRQr7phQLH",
        "outputId": "63deb037-ca2c-4675-e13b-cb18ba0df0ad"
      },
      "source": [
        "# split sentence and loop over words\n",
        "mydata = 'Doctor who went up the hill to fetch a pale of water'\n",
        "for word in mydata.split(\" \"):\n",
        "  print(word)"
      ],
      "execution_count": 11,
      "outputs": [
        {
          "output_type": "stream",
          "name": "stdout",
          "text": [
            "Doctor\n",
            "who\n",
            "went\n",
            "up\n",
            "the\n",
            "hill\n",
            "to\n",
            "fetch\n",
            "a\n",
            "pale\n",
            "of\n",
            "water\n"
          ]
        }
      ]
    },
    {
      "cell_type": "code",
      "metadata": {
        "colab": {
          "base_uri": "https://localhost:8080/"
        },
        "id": "YlihzwSuj_bK",
        "outputId": "e5b7dec0-10dd-4c0f-e2b4-ca9fe4c35c53"
      },
      "source": [
        "# creates a list of strings\n",
        "mydata = 'Doctor who went up the hill to fetch a pale of water'\n",
        "bag =[]\n",
        "for word in mydata.split(\" \"):\n",
        "  bag.append(word)\n",
        "print(bag)\n",
        "print(bag[-2])"
      ],
      "execution_count": 14,
      "outputs": [
        {
          "output_type": "stream",
          "name": "stdout",
          "text": [
            "['Doctor', 'who', 'went', 'up', 'the', 'hill', 'to', 'fetch', 'a', 'pale', 'of', 'water']\n",
            "of\n"
          ]
        }
      ]
    },
    {
      "cell_type": "code",
      "metadata": {
        "colab": {
          "base_uri": "https://localhost:8080/"
        },
        "id": "ujw1U6KQkc7t",
        "outputId": "fae47df1-1757-440e-ed4f-05d5765ef163"
      },
      "source": [
        "mydata = 'Doctor who went up the hill to fetch a pale of water'\n",
        "bag =[]\n",
        "# loop in every word of sentence\n",
        "for word in mydata.split(\" \"):\n",
        "    # calculate the length of every word\n",
        "    lngth = len(word)\n",
        "    # if length even, append to result\n",
        "    if (lngth % 2 == 0):\n",
        "      bag.append(word)\n",
        "print(bag)"
      ],
      "execution_count": 18,
      "outputs": [
        {
          "output_type": "stream",
          "name": "stdout",
          "text": [
            "['Doctor', 'went', 'up', 'hill', 'to', 'pale', 'of']\n"
          ]
        }
      ]
    },
    {
      "cell_type": "code",
      "metadata": {
        "colab": {
          "base_uri": "https://localhost:8080/"
        },
        "id": "7TkF1eDflwLe",
        "outputId": "8fd96a4d-550b-4d76-f252-0945b1745b9a"
      },
      "source": [
        "# the same but using list comprehension\n",
        "mydata = 'Doctor who went up the hill to fetch a pale of water'\n",
        "# syntax = [expression(iterator) for iterator in data]\n",
        "result=[word if len(word)%2==0 else None for word in mydata.split(\" \")]\n",
        "print(result)"
      ],
      "execution_count": 20,
      "outputs": [
        {
          "output_type": "stream",
          "name": "stdout",
          "text": [
            "['Doctor', None, 'went', 'up', None, 'hill', 'to', None, None, 'pale', 'of', None]\n"
          ]
        }
      ]
    },
    {
      "cell_type": "code",
      "metadata": {
        "id": "K3JvPOYNnAmw"
      },
      "source": [
        "restult =[word for word in mydata.split(\" \") if len(word)%2==0]\n",
        "#by mentioning word - return as is, do not change\n",
        "print(result)"
      ],
      "execution_count": null,
      "outputs": []
    },
    {
      "cell_type": "code",
      "metadata": {
        "colab": {
          "base_uri": "https://localhost:8080/"
        },
        "id": "yfwYOM8xprlL",
        "outputId": "04d2b90c-d5dd-41b6-bf82-b333c4cf59e8"
      },
      "source": [
        "mydata = [\"$30\", \"€40\", \"$30\", \"€30\", \"$50\"]\n",
        "# 1. loop over all elements\n",
        "# 2. if element contains $ symbol\n",
        "# 3. extract numberr  from the value\n",
        "# 4. multiply this number by exchange rate\n",
        "# 5. add euros to the dataset\n",
        "exch = 0.88\n",
        "def dollar_to_euro(n):\n",
        "  return n*exch\n",
        "\n",
        "result = ['€'+str(dollar_to_euro(int(element[1:]))) if(element[0]=='$') else element for element in mydata]\n",
        "print(result)"
      ],
      "execution_count": 31,
      "outputs": [
        {
          "output_type": "stream",
          "name": "stdout",
          "text": [
            "['€26.4', '€40', '€26.4', '€30', '€44.0']\n"
          ]
        }
      ]
    },
    {
      "cell_type": "code",
      "metadata": {
        "id": "JXj9SH_lsE6K"
      },
      "source": [
        ""
      ],
      "execution_count": null,
      "outputs": []
    }
  ]
}